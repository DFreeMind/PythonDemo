{
 "cells": [
  {
   "cell_type": "markdown",
   "metadata": {},
   "source": [
    "![image](http://wx2.sinaimg.cn/thumbnail/69d4185bly1fmf9kfagd3j20ek0ekq88.jpg)\n",
    "# 常用内建模块\n",
    "\n",
    "## datetime\n",
    "datetime是Python处理日期和时间的标准库。\n",
    "\n",
    "### 获取当前日期和时间\n",
    "从下面代码可以看到，`datetime`是模块，`datetime`模块还包含一个`datetime`类，通过`from datetime import datetime`导入的才是`datetime`这个类。\n",
    "\n",
    "如果仅导入`import datetime`，则必须引用全名`datetime.datetime`。`datetime.now()`返回当前日期和时间，其类型是`datetime`。"
   ]
  },
  {
   "cell_type": "code",
   "execution_count": 1,
   "metadata": {
    "code_folding": []
   },
   "outputs": [
    {
     "name": "stdout",
     "output_type": "stream",
     "text": [
      "2018-01-08 12:26:48.058135\n",
      "<class 'datetime.datetime'>\n"
     ]
    }
   ],
   "source": [
    "# 导入 datetime 模块下的 datetime 类\n",
    "from datetime import datetime\n",
    "now = datetime.now()\n",
    "print(now)\n",
    "print(type(now))"
   ]
  },
  {
   "cell_type": "markdown",
   "metadata": {},
   "source": [
    "### 获取指定日期和时间\n",
    "要指定某个日期和时间，我们直接用参数构造一个`datetime`："
   ]
  },
  {
   "cell_type": "code",
   "execution_count": 3,
   "metadata": {},
   "outputs": [
    {
     "name": "stdout",
     "output_type": "stream",
     "text": [
      "2018-01-08 14:01:11\n"
     ]
    }
   ],
   "source": [
    "from datetime import datetime\n",
    "dt = datetime(2018,1,8,14,1,11)\n",
    "print(dt)"
   ]
  },
  {
   "cell_type": "markdown",
   "metadata": {},
   "source": [
    "### datetime 转timestamp\n",
    "在计算机中，时间实际上是用数字表示的。我们把1970年1月1日 00:00:00 UTC+00:00时区的时刻称为epoch time，记为`0`（1970年以前的时间timestamp为负数），当前时间就是相对于epoch time的秒数，称为timestamp。\n",
    "\n",
    "你可以认为：\n",
    "```python\n",
    "timestamp = 0 = 1970-1-1 00:00:00 UTC+0:00\n",
    "```\n",
    "对应的北京时间是：\n",
    "```python\n",
    "timestamp = 0 = 1970-1-1 08:00:00 UTC+8:00\n",
    "```\n",
    "可见timestamp的值与时区毫无关系，因为timestamp一旦确定，其UTC时间就确定了，转换到任意时区的时间也是完全确定的，这就是为什么计算机存储的当前时间是以timestamp表示的，因为全球各地的计算机在任意时刻的timestamp都是完全相同的（假定时间已校准）。\n",
    "\n",
    "把一个`datetime`类型转换为timestamp只需要简单调用`timestamp()`方法："
   ]
  },
  {
   "cell_type": "code",
   "execution_count": 4,
   "metadata": {},
   "outputs": [
    {
     "data": {
      "text/plain": [
       "1515391271.0"
      ]
     },
     "execution_count": 4,
     "metadata": {},
     "output_type": "execute_result"
    }
   ],
   "source": [
    "from datetime import datetime\n",
    "dt = datetime(2018,1,8,14,1,11)\n",
    "# 将时间转换成时间戳\n",
    "dt.timestamp()"
   ]
  },
  {
   "cell_type": "markdown",
   "metadata": {},
   "source": [
    "注意Python的timestamp是一个浮点数。如果有小数位，小数位表示毫秒数。\n",
    "\n",
    "某些编程语言（如Java和JavaScript）的timestamp使用整数表示毫秒数，这种情况下只需要把timestamp除以1000就得到Python的浮点表示方法。\n",
    "\n",
    "### timestamp 转换为 datetime\n",
    "要把timestamp转换为`datetime`，使用`datetime`提供的`fromtimestamp()`方法："
   ]
  },
  {
   "cell_type": "code",
   "execution_count": 5,
   "metadata": {},
   "outputs": [
    {
     "data": {
      "text/plain": [
       "datetime.datetime(2018, 1, 8, 14, 1, 11)"
      ]
     },
     "execution_count": 5,
     "metadata": {},
     "output_type": "execute_result"
    }
   ],
   "source": [
    "from datetime import datetime\n",
    "ts = 1515391271.0\n",
    "datetime.fromtimestamp(ts)"
   ]
  },
  {
   "cell_type": "markdown",
   "metadata": {},
   "source": [
    "注意到timestamp是一个浮点数，它没有时区的概念，而datetime是有时区的。上述转换是在timestamp和本地时间做转换。\n",
    "\n",
    "本地时间是指当前操作系统设定的时区。例如北京时区是东8区，则本地时间：\n",
    "```python\n",
    "2015-04-19 12:20:00\n",
    "```\n",
    "实际上就是UTC+8:00时区的时间：\n",
    "```python\n",
    "2015-04-19 12:20:00 UTC+8:00\n",
    "```\n",
    "而此刻的格林威治标准时间与北京时间差了8小时，也就是UTC+0:00时区的时间应该是：\n",
    "```python\n",
    "2015-04-19 04:20:00 UTC+0:00\n",
    "```\n",
    "timestamp也可以直接被转换到UTC标准时区的时间："
   ]
  },
  {
   "cell_type": "code",
   "execution_count": 6,
   "metadata": {},
   "outputs": [
    {
     "name": "stdout",
     "output_type": "stream",
     "text": [
      "2018-01-08 14:01:11\n",
      "2018-01-08 06:01:11\n"
     ]
    }
   ],
   "source": [
    "from datetime import datetime\n",
    "ts = 1515391271.0\n",
    "# 本机时间\n",
    "print(datetime.fromtimestamp(ts))\n",
    "# utc时间\n",
    "print(datetime.utcfromtimestamp(ts))"
   ]
  },
  {
   "cell_type": "markdown",
   "metadata": {
    "heading_collapsed": true
   },
   "source": [
    "### str转换为datetime\n",
    "\n",
    "很多时候，用户输入的日期和时间是字符串，要处理日期和时间，首先必须把str转换为datetime。转换方法是通过`datetime.strptime()`实现，需要一个日期和时间的格式化字符串。\n",
    "\n",
    "字符串`'%Y-%m-%d %H:%M:%S'`规定了日期和时间部分的格式。详细的说明请参考[Python文档](https://docs.python.org/3/library/datetime.html#strftime-strptime-behavior)。\n",
    "\n",
    "**注意转换后的datetime是没有时区信息的。**"
   ]
  },
  {
   "cell_type": "code",
   "execution_count": 8,
   "metadata": {
    "hidden": true
   },
   "outputs": [
    {
     "name": "stdout",
     "output_type": "stream",
     "text": [
      "2018-01-08 14:01:11\n"
     ]
    }
   ],
   "source": [
    "from datetime import datetime\n",
    "cday = datetime.strptime('2018-1-8 14:01:11','%Y-%m-%d %H:%M:%S')\n",
    "print(cday)"
   ]
  },
  {
   "cell_type": "markdown",
   "metadata": {},
   "source": [
    "### datetime转换为str\n",
    "如果已经有了datetime对象，要把它格式化为字符串显示给用户，就需要转换为str，转换方法是通过`strftime()`实现的，同样需要一个日期和时间的格式化字符串："
   ]
  },
  {
   "cell_type": "code",
   "execution_count": 10,
   "metadata": {},
   "outputs": [
    {
     "name": "stdout",
     "output_type": "stream",
     "text": [
      "Mon, Jan 08 14:23\n"
     ]
    }
   ],
   "source": [
    "from datetime import datetime\n",
    "now = datetime.now()\n",
    "print(now.strftime('%a, %b %d %H:%M'))"
   ]
  },
  {
   "cell_type": "markdown",
   "metadata": {},
   "source": [
    "### datetime加减\n",
    "对日期和时间进行加减实际上就是把datetime往后或往前计算，得到新的datetime。加减可以直接用`+`和`-`运算符，不过需要导入`timedelta`这个类："
   ]
  },
  {
   "cell_type": "code",
   "execution_count": 11,
   "metadata": {},
   "outputs": [
    {
     "name": "stdout",
     "output_type": "stream",
     "text": [
      "2018-01-08 14:26:57.197604\n",
      "2018-01-09 00:26:57.197604\n",
      "2018-01-07 14:26:57.197604\n",
      "2018-01-11 02:26:57.197604\n"
     ]
    }
   ],
   "source": [
    "from datetime import datetime,timedelta\n",
    "now = datetime.now()\n",
    "print(now)\n",
    "# 加上十小时\n",
    "print(now + timedelta(hours = 10))\n",
    "# 减去一天\n",
    "print(now - timedelta(days = 1))\n",
    "# 加上两天十二小时\n",
    "print(now + timedelta(days=2, hours=12))"
   ]
  },
  {
   "cell_type": "markdown",
   "metadata": {},
   "source": [
    "可见，使用`timedelta`你可以很容易地算出前几天和后几天的时刻。\n",
    "\n",
    "### 本地时间转换为UTC时间\n",
    "本地时间是指系统设定时区的时间，例如北京时间是UTC+8:00时区的时间，而UTC时间指UTC+0:00时区的时间。\n",
    "\n",
    "一个`datetime`类型有一个时区属性`tzinfo`，但是默认为`None`，所以无法区分这个`datetime`到底是哪个时区，除非强行给`datetime`设置一个时区："
   ]
  },
  {
   "cell_type": "code",
   "execution_count": 17,
   "metadata": {},
   "outputs": [
    {
     "name": "stdout",
     "output_type": "stream",
     "text": [
      "2018-01-08 14:35:33.607496\n",
      "2018-01-08 14:35:33.607496+08:00\n"
     ]
    }
   ],
   "source": [
    "from datetime import datetime,timedelta,timezone\n",
    "# 创建 utc 8 时区\n",
    "tz_utc_8 = timezone(timedelta(hours=8))\n",
    "\n",
    "now = datetime.now()\n",
    "print(now)\n",
    "\n",
    "# 前置设置 utc 8 时区\n",
    "dt = now.replace(tzinfo=tz_utc_8)\n",
    "print(dt)"
   ]
  },
  {
   "cell_type": "markdown",
   "metadata": {},
   "source": [
    "如果系统时区恰好是UTC+8:00，那么上述代码就是正确的，否则，不能强制设置为UTC+8:00时区。\n",
    "\n",
    "### 时区转换\n",
    "\n",
    "我们可以先通过`utcnow()`拿到当前的UTC时间，再转换为任意时区的时间："
   ]
  },
  {
   "cell_type": "code",
   "execution_count": 19,
   "metadata": {
    "code_folding": []
   },
   "outputs": [
    {
     "name": "stdout",
     "output_type": "stream",
     "text": [
      "2018-01-08 06:47:18.635627+00:00\n",
      "2018-01-08 14:47:18.635627+08:00\n",
      "2018-01-08 15:47:18.635627+09:00\n",
      "2018-01-08 15:47:18.635627+09:00\n"
     ]
    }
   ],
   "source": [
    "# 拿到 utc 时间，并强制转换成 UTC+0:00\n",
    "utc_dt = datetime.utcnow().replace(tzinfo=timezone.utc)\n",
    "print(utc_dt)\n",
    "\n",
    "# 使用 astimezone 转换成北京时区\n",
    "bj_dt = utc_dt.astimezone(timezone(timedelta(hours=8)))\n",
    "print(bj_dt)\n",
    "\n",
    "# 使用 astimezone 转换成东京时区\n",
    "ty_dt = utc_dt.astimezone(timezone(timedelta(hours=9)))\n",
    "print(ty_dt)\n",
    "\n",
    "# 将 bj_dt 转换成时区为 东京时间：\n",
    "ty_dt2 = bj_dt.astimezone(timezone(timedelta(hours=9)))\n",
    "print(ty_dt2)"
   ]
  },
  {
   "cell_type": "markdown",
   "metadata": {},
   "source": [
    "时区转换的关键在于，拿到一个`datetime`时，要获知其正确的时区，然后强制设置时区，作为基准时间。\n",
    "\n",
    "利用带时区的`datetime`，通过`astimezone()`方法，可以转换到任意时区。\n",
    "\n",
    "注：不是必须从UTC+0:00时区转换到其他时区，任何带时区的`datetime`都可以正确转换，例如上述`bj_dt`到`ty_dt`的转换。\n",
    "\n",
    "### 练习\n",
    "\n",
    "假设你获取了用户输入的日期和时间如`2015-1-21 9:01:30`，以及一个时区信息如`UTC+5:00`，均是str，请编写一个函数将其转换为timestamp："
   ]
  },
  {
   "cell_type": "code",
   "execution_count": 39,
   "metadata": {
    "code_folding": []
   },
   "outputs": [
    {
     "name": "stdout",
     "output_type": "stream",
     "text": [
      "2015-06-01 08:10:30\n",
      "7\n",
      "2015-05-31 16:10:30\n",
      "-9\n",
      "ok\n"
     ]
    }
   ],
   "source": [
    "import re\n",
    "from datetime import datetime, timezone, timedelta\n",
    "def to_timestamp(dt_str, tz_str):\n",
    "    dt = datetime.strptime(dt_str,'%Y-%m-%d %H:%M:%S')\n",
    "    print(dt)\n",
    "    tz = re.match('UTC((\\+|\\-)\\d+)\\:\\d+',tz_str).group(1)\n",
    "    print(int(tz))\n",
    "    dttz = dt.replace(tzinfo=timezone(timedelta(hours=int(tz))))\n",
    "    return dttz.timestamp()\n",
    "\n",
    "# 测试:\n",
    "t1 = to_timestamp('2015-6-1 08:10:30', 'UTC+7:00')\n",
    "assert t1 == 1433121030.0, t1\n",
    "\n",
    "t2 = to_timestamp('2015-5-31 16:10:30', 'UTC-09:00')\n",
    "assert t2 == 1433121030.0, t2\n",
    "\n",
    "print('ok')"
   ]
  },
  {
   "cell_type": "code",
   "execution_count": null,
   "metadata": {},
   "outputs": [],
   "source": []
  },
  {
   "cell_type": "code",
   "execution_count": null,
   "metadata": {},
   "outputs": [],
   "source": []
  },
  {
   "cell_type": "code",
   "execution_count": null,
   "metadata": {},
   "outputs": [],
   "source": []
  },
  {
   "cell_type": "code",
   "execution_count": null,
   "metadata": {},
   "outputs": [],
   "source": []
  },
  {
   "cell_type": "code",
   "execution_count": null,
   "metadata": {},
   "outputs": [],
   "source": []
  },
  {
   "cell_type": "code",
   "execution_count": null,
   "metadata": {},
   "outputs": [],
   "source": []
  },
  {
   "cell_type": "code",
   "execution_count": null,
   "metadata": {},
   "outputs": [],
   "source": []
  },
  {
   "cell_type": "code",
   "execution_count": null,
   "metadata": {},
   "outputs": [],
   "source": []
  },
  {
   "cell_type": "code",
   "execution_count": null,
   "metadata": {},
   "outputs": [],
   "source": []
  },
  {
   "cell_type": "code",
   "execution_count": null,
   "metadata": {},
   "outputs": [],
   "source": []
  },
  {
   "cell_type": "markdown",
   "metadata": {},
   "source": [
    "## 参考\n",
    "1、[datetime - 廖雪峰](https://www.liaoxuefeng.com/wiki/0014316089557264a6b348958f449949df42a6d3a2e542c000/001431937554888869fb52b812243dda6103214cd61d0c2000)\n",
    "\n",
    "\n",
    "\n",
    "\n"
   ]
  },
  {
   "cell_type": "code",
   "execution_count": null,
   "metadata": {},
   "outputs": [],
   "source": []
  }
 ],
 "metadata": {
  "kernelspec": {
   "display_name": "Python 3",
   "language": "python",
   "name": "python3"
  },
  "language_info": {
   "codemirror_mode": {
    "name": "ipython",
    "version": 3
   },
   "file_extension": ".py",
   "mimetype": "text/x-python",
   "name": "python",
   "nbconvert_exporter": "python",
   "pygments_lexer": "ipython3",
   "version": "3.6.3"
  },
  "toc": {
   "nav_menu": {},
   "number_sections": true,
   "sideBar": true,
   "skip_h1_title": false,
   "toc_cell": false,
   "toc_position": {
    "height": "535px",
    "left": "0px",
    "right": "1200px",
    "top": "111px",
    "width": "382px"
   },
   "toc_section_display": "block",
   "toc_window_display": true
  }
 },
 "nbformat": 4,
 "nbformat_minor": 2
}
