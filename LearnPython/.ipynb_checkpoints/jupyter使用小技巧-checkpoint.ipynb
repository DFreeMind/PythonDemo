{
 "cells": [
  {
   "cell_type": "markdown",
   "metadata": {
    "toc": true
   },
   "source": []
  },
  {
   "cell_type": "markdown",
   "metadata": {},
   "source": [
    "**修改启动时的目录**\n",
    " \n",
    " 修改启动是的目录可以在启动时指定启动的目录如下：\n",
    " \n",
    " `(py36) C:\\Users\\Administrator>jupyter notebook D:\\`\n",
    "这样在启动的时候看到的就是`D:\\`盘的目录。\n",
    "\n",
    "\n",
    "## 在jupyter中安装其他kernel\n",
    "\n",
    "### 为 jupyter 安装 scala kernel\n",
    "\n",
    "可以参考 Stack Overflow上的此问答：[How do I install Scala in Jupyter IPython Notebook?](https://stackoverflow.com/questions/35563545/how-do-i-install-scala-in-jupyter-ipython-notebook)\n",
    "\n",
    "Ensure you have IPython 3 installed. ipython --version should return a value >= 3.0. If it's not the case, a quick way of setting it up consists in installing the Anaconda Python distribution, and then running\n",
    "\n",
    "`$ pip install --upgrade \"ipython[all]\"`\n",
    "\n",
    "ipython --version should then return a value >= 3.0.\n",
    "\n",
    "Download the Jupyter Scala binaries for Scala 2.10 ([txz](https://oss.sonatype.org/content/repositories/snapshots/com/github/alexarchambault/jupyter/jupyter-scala-cli_2.10.5/0.2.0-SNAPSHOT/jupyter-scala_2.10.5-0.2.0-SNAPSHOT.tar.xz) or [zip](https://oss.sonatype.org/content/repositories/snapshots/com/github/alexarchambault/jupyter/jupyter-scala-cli_2.10.5/0.2.0-SNAPSHOT/jupyter-scala_2.10.5-0.2.0-SNAPSHOT.zip)) or Scala 2.11 ([txz](https://oss.sonatype.org/content/repositories/snapshots/com/github/alexarchambault/jupyter/jupyter-scala-cli_2.11.6/0.2.0-SNAPSHOT/jupyter-scala_2.11.6-0.2.0-SNAPSHOT.tar.xz) or [zip](https://oss.sonatype.org/content/repositories/snapshots/com/github/alexarchambault/jupyter/jupyter-scala-cli_2.11.6/0.2.0-SNAPSHOT/jupyter-scala_2.11.6-0.2.0-SNAPSHOT.zip)), and unpack them in a safe place. Then run once the jupyter-scala program (or jupyter-scala.bat on Windows) it contains. That will set-up the Jupyter Scala kernel for the current user.\n",
    "\n",
    "Check that Jupyter/IPython knows about Jupyter Scala by running\n",
    "\n",
    "`$ jupyter kernelspec list`\n",
    "\n",
    "This should print, among others, a line like\n",
    "\n",
    "scala211\n",
    "\n",
    "(or scala210 dependending on the Scala version you chose).\n",
    "\n",
    "Then run either IPython console with\n",
    "\n",
    "`$ ipython console --kernel scala211`\n",
    "\n",
    "and start using the Jupyter Scala kernel straightaway, or run Jupyter Notebook with\n",
    "\n",
    "`$ jupyter notebook`\n",
    "\n",
    "and create Scala 2.11 notebooks by choosing Scala 2.11 in the dropdown in the upper right of the Jupyter Notebook start page.\n",
    "\n",
    "**Note:** Since IPython has now been replaced by Jupyter, we replaced ipython in the above commands with jupyter"
   ]
  },
  {
   "cell_type": "markdown",
   "metadata": {},
   "source": [
    "## 添加 TOC 目录\n",
    "可以参考此文的设置方式：[jupyter notebook markdown TOC目录设置](http://lmingzhi.cn/2017/02/10/jupyter-notebook-markdown-toc%E7%9B%AE%E5%BD%95%E8%AE%BE%E7%BD%AE/)。\n",
    "\n",
    "![image](http://ws1.sinaimg.cn/large/69d4185bly1fmpjqf4hkvj20wh0gemyg.jpg)"
   ]
  },
  {
   "cell_type": "code",
   "execution_count": null,
   "metadata": {},
   "outputs": [],
   "source": []
  }
 ],
 "metadata": {
  "kernelspec": {
   "display_name": "Python 3",
   "language": "python",
   "name": "python3"
  },
  "language_info": {
   "codemirror_mode": {
    "name": "ipython",
    "version": 3
   },
   "file_extension": ".py",
   "mimetype": "text/x-python",
   "name": "python",
   "nbconvert_exporter": "python",
   "pygments_lexer": "ipython3",
   "version": "3.6.3"
  },
  "toc": {
   "nav_menu": {},
   "number_sections": true,
   "sideBar": false,
   "skip_h1_title": false,
   "toc_cell": true,
   "toc_position": {
    "height": "255px",
    "left": "1060px",
    "right": "20px",
    "top": "111px",
    "width": "212px"
   },
   "toc_section_display": "block",
   "toc_window_display": true
  }
 },
 "nbformat": 4,
 "nbformat_minor": 2
}
