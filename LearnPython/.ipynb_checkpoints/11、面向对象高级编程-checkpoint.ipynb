{
 "cells": [
  {
   "cell_type": "markdown",
   "metadata": {
    "toc": true
   },
   "source": [
    "<h1>Table of Contents<span class=\"tocSkip\"></span></h1>\n",
    "<div class=\"toc\" style=\"margin-top: 1em;\"><ul class=\"toc-item\"><li><span><a href=\"#面向对象高级编程\" data-toc-modified-id=\"面向对象高级编程-1\"><span class=\"toc-item-num\">1&nbsp;&nbsp;</span>面向对象高级编程</a></span><ul class=\"toc-item\"><li><span><a href=\"#使用slots\" data-toc-modified-id=\"使用slots-1.1\"><span class=\"toc-item-num\">1.1&nbsp;&nbsp;</span>使用<strong>slots</strong></a></span><ul class=\"toc-item\"><li><span><a href=\"#为实例添加属性与方法\" data-toc-modified-id=\"为实例添加属性与方法-1.1.1\"><span class=\"toc-item-num\">1.1.1&nbsp;&nbsp;</span>为实例添加属性与方法</a></span></li><li><span><a href=\"#为class添加属性与方法\" data-toc-modified-id=\"为class添加属性与方法-1.1.2\"><span class=\"toc-item-num\">1.1.2&nbsp;&nbsp;</span>为class添加属性与方法</a></span></li><li><span><a href=\"#使用slots显示属性的个数\" data-toc-modified-id=\"使用slots显示属性的个数-1.1.3\"><span class=\"toc-item-num\">1.1.3&nbsp;&nbsp;</span>使用<strong>slots</strong>显示属性的个数</a></span></li></ul></li><li><span><a href=\"#使用@property\" data-toc-modified-id=\"使用@property-1.2\"><span class=\"toc-item-num\">1.2&nbsp;&nbsp;</span>使用@property</a></span><ul class=\"toc-item\"><li><span><a href=\"#使用get与set方法设置和获取属性\" data-toc-modified-id=\"使用get与set方法设置和获取属性-1.2.1\"><span class=\"toc-item-num\">1.2.1&nbsp;&nbsp;</span>使用get与set方法设置和获取属性</a></span></li><li><span><a href=\"#使用@property将方法转成属性调用\" data-toc-modified-id=\"使用@property将方法转成属性调用-1.2.2\"><span class=\"toc-item-num\">1.2.2&nbsp;&nbsp;</span>使用@property将方法转成属性调用</a></span></li><li><span><a href=\"#设置只读属性\" data-toc-modified-id=\"设置只读属性-1.2.3\"><span class=\"toc-item-num\">1.2.3&nbsp;&nbsp;</span>设置只读属性</a></span></li><li><span><a href=\"#练习\" data-toc-modified-id=\"练习-1.2.4\"><span class=\"toc-item-num\">1.2.4&nbsp;&nbsp;</span>练习</a></span></li></ul></li><li><span><a href=\"#多重继承\" data-toc-modified-id=\"多重继承-1.3\"><span class=\"toc-item-num\">1.3&nbsp;&nbsp;</span>多重继承</a></span><ul class=\"toc-item\"><li><span><a href=\"#类层次的划分\" data-toc-modified-id=\"类层次的划分-1.3.1\"><span class=\"toc-item-num\">1.3.1&nbsp;&nbsp;</span>类层次的划分</a></span></li><li><span><a href=\"#MixIn\" data-toc-modified-id=\"MixIn-1.3.2\"><span class=\"toc-item-num\">1.3.2&nbsp;&nbsp;</span>MixIn</a></span></li></ul></li><li><span><a href=\"#定制类\" data-toc-modified-id=\"定制类-1.4\"><span class=\"toc-item-num\">1.4&nbsp;&nbsp;</span>定制类</a></span><ul class=\"toc-item\"><li><span><a href=\"#__str__\" data-toc-modified-id=\"__str__-1.4.1\"><span class=\"toc-item-num\">1.4.1&nbsp;&nbsp;</span>__str__</a></span></li><li><span><a href=\"#__iter__\" data-toc-modified-id=\"__iter__-1.4.2\"><span class=\"toc-item-num\">1.4.2&nbsp;&nbsp;</span>__iter__</a></span></li><li><span><a href=\"#__getitem__\" data-toc-modified-id=\"__getitem__-1.4.3\"><span class=\"toc-item-num\">1.4.3&nbsp;&nbsp;</span>__getitem__</a></span></li><li><span><a href=\"#__getattr__\" data-toc-modified-id=\"__getattr__-1.4.4\"><span class=\"toc-item-num\">1.4.4&nbsp;&nbsp;</span>__getattr__</a></span></li><li><span><a href=\"#__call__\" data-toc-modified-id=\"__call__-1.4.5\"><span class=\"toc-item-num\">1.4.5&nbsp;&nbsp;</span>__call__</a></span></li></ul></li><li><span><a href=\"#使用枚举类\" data-toc-modified-id=\"使用枚举类-1.5\"><span class=\"toc-item-num\">1.5&nbsp;&nbsp;</span>使用枚举类</a></span><ul class=\"toc-item\"><li><span><a href=\"#练习\" data-toc-modified-id=\"练习-1.5.1\"><span class=\"toc-item-num\">1.5.1&nbsp;&nbsp;</span>练习</a></span></li></ul></li></ul></li></ul></div>"
   ]
  },
  {
   "cell_type": "markdown",
   "metadata": {},
   "source": [
    "![image](http://wx2.sinaimg.cn/thumbnail/69d4185bly1fmf9kfagd3j20ek0ekq88.jpg)\n",
    "# 面向对象高级编程\n",
    "\n",
    "## 使用__slots__\n",
    "### 为实例添加属性与方法\n",
    "正常情况下，当我们定义了一个class，创建了一个class的实例后，我们可以给该实例绑定任何属性和方法，这就是动态语言的灵活性。"
   ]
  },
  {
   "cell_type": "code",
   "execution_count": 5,
   "metadata": {},
   "outputs": [
    {
     "name": "stdout",
     "output_type": "stream",
     "text": [
      "Michael\n",
      "25\n"
     ]
    }
   ],
   "source": [
    "# 创建一个类\n",
    "class Student(object):\n",
    "    pass\n",
    "\n",
    "s = Student()\n",
    "\n",
    "# 为实例绑定属性\n",
    "s.name = 'Michael'\n",
    "print(s.name)\n",
    "\n",
    "# 为实例绑定方法\n",
    "# 定义一个函数作为实例方法，同时为实例绑定属性\n",
    "def set_age(self, age): \n",
    "    self.age = age\n",
    "    \n",
    "from types import MethodType\n",
    "s.set_age = MethodType(set_age, s) # 给实例绑定一个方法\n",
    "s.set_age(25) # 调用实例方法\n",
    "print(s.age)"
   ]
  },
  {
   "cell_type": "markdown",
   "metadata": {},
   "source": [
    "### 为class添加属性与方法\n",
    "但是，给一个实例绑定的方法，对另一个实例是不起作用的，为了给所有实例都绑定方法，可以给class绑定方法。给class绑定方法后，所有实例均可调用。"
   ]
  },
  {
   "cell_type": "code",
   "execution_count": 7,
   "metadata": {},
   "outputs": [
    {
     "name": "stdout",
     "output_type": "stream",
     "text": [
      "100\n",
      "99\n"
     ]
    }
   ],
   "source": [
    "# s2 = Student() # 创建新的实例\n",
    "# s2.set_age(25) # 尝试调用方法\n",
    "\n",
    "def set_score(self, score):\n",
    "    self.score = score\n",
    "# 为class绑定方法\n",
    "Student.set_score = set_score\n",
    "\n",
    "# 所有实例均可调用\n",
    "s.set_score(100)\n",
    "print(s.score)\n",
    "\n",
    "s2.set_score(99)\n",
    "print(s2.score)"
   ]
  },
  {
   "cell_type": "markdown",
   "metadata": {},
   "source": [
    "### 使用__slots__显示属性的个数\n",
    "当我们只允许对Student实例添加name和age属性时，就可以使用`__slots__`属性限制。"
   ]
  },
  {
   "cell_type": "code",
   "execution_count": 8,
   "metadata": {},
   "outputs": [
    {
     "ename": "AttributeError",
     "evalue": "'Student' object has no attribute 'score'",
     "output_type": "error",
     "traceback": [
      "\u001b[1;31m---------------------------------------------------------------------------\u001b[0m",
      "\u001b[1;31mAttributeError\u001b[0m                            Traceback (most recent call last)",
      "\u001b[1;32m<ipython-input-8-77a89b02cbd2>\u001b[0m in \u001b[0;36m<module>\u001b[1;34m()\u001b[0m\n\u001b[0;32m      7\u001b[0m \u001b[1;33m\u001b[0m\u001b[0m\n\u001b[0;32m      8\u001b[0m \u001b[1;31m# name、age之外的属性绑定会报错\u001b[0m\u001b[1;33m\u001b[0m\u001b[1;33m\u001b[0m\u001b[0m\n\u001b[1;32m----> 9\u001b[1;33m \u001b[0ms\u001b[0m\u001b[1;33m.\u001b[0m\u001b[0mscore\u001b[0m \u001b[1;33m=\u001b[0m \u001b[1;36m99\u001b[0m \u001b[1;31m# 绑定属性'score'\u001b[0m\u001b[1;33m\u001b[0m\u001b[0m\n\u001b[0m",
      "\u001b[1;31mAttributeError\u001b[0m: 'Student' object has no attribute 'score'"
     ]
    }
   ],
   "source": [
    "class Student(object):\n",
    "    __slots__ = ('name', 'age') # 用tuple定义允许绑定的属性名称\n",
    "    \n",
    "s = Student() # 创建新的实例\n",
    "s.name = 'Michael' # 绑定属性'name'\n",
    "s.age = 25 # 绑定属性'age'\n",
    "\n",
    "# name、age之外的属性绑定会报错\n",
    "s.score = 99 # 绑定属性'score'"
   ]
  },
  {
   "cell_type": "markdown",
   "metadata": {},
   "source": [
    "由于`'score'`没有被放到`__slots__`中，所以不能绑定`score`属性，试图绑定`score`将得到`AttributeError`的错误。\n",
    "\n",
    "使用`__slots__`要注意，`__slots__`定义的属性仅对**当前类实例**起作用，对继承的**子类**是不起作用的。除非在子类中也定义`__slots__`，这样，子类实例允许定义的属性就是自身的`__slots__`加上父类的`__slots__`。"
   ]
  },
  {
   "cell_type": "code",
   "execution_count": 9,
   "metadata": {},
   "outputs": [],
   "source": [
    "class GraduateStudent(Student):\n",
    "    pass\n",
    "\n",
    "g = GraduateStudent()\n",
    "# 子类实例可以绑定age、name之外的属性，不受父类 __slots__的限制\n",
    "g.score = 9999"
   ]
  },
  {
   "cell_type": "markdown",
   "metadata": {},
   "source": [
    "## 使用@property\n",
    "\n",
    "### 使用get与set方法设置和获取属性\n",
    "在绑定属性时，如果我们直接把属性暴露出去，虽然写起来很简单，但是，没办法检查参数，导致可以把成绩随便改。这显然不合逻辑。为了限制score的范围，可以通过一个`set_score()`方法来设置成绩，再通过一个`get_score()`来获取成绩，这样，在`set_score()`方法里，就可以检查参数。"
   ]
  },
  {
   "cell_type": "code",
   "execution_count": 11,
   "metadata": {},
   "outputs": [
    {
     "name": "stdout",
     "output_type": "stream",
     "text": [
      "60\n"
     ]
    },
    {
     "ename": "ValueError",
     "evalue": "score must between 0 ~ 100!",
     "output_type": "error",
     "traceback": [
      "\u001b[1;31m---------------------------------------------------------------------------\u001b[0m",
      "\u001b[1;31mValueError\u001b[0m                                Traceback (most recent call last)",
      "\u001b[1;32m<ipython-input-11-7b915d7d3ef9>\u001b[0m in \u001b[0;36m<module>\u001b[1;34m()\u001b[0m\n\u001b[0;32m     16\u001b[0m \u001b[0mprint\u001b[0m\u001b[1;33m(\u001b[0m\u001b[0ms\u001b[0m\u001b[1;33m.\u001b[0m\u001b[0mget_score\u001b[0m\u001b[1;33m(\u001b[0m\u001b[1;33m)\u001b[0m\u001b[1;33m)\u001b[0m\u001b[1;33m\u001b[0m\u001b[0m\n\u001b[0;32m     17\u001b[0m \u001b[1;33m\u001b[0m\u001b[0m\n\u001b[1;32m---> 18\u001b[1;33m \u001b[0ms\u001b[0m\u001b[1;33m.\u001b[0m\u001b[0mset_score\u001b[0m\u001b[1;33m(\u001b[0m\u001b[1;36m9999\u001b[0m\u001b[1;33m)\u001b[0m\u001b[1;33m\u001b[0m\u001b[0m\n\u001b[0m",
      "\u001b[1;32m<ipython-input-11-7b915d7d3ef9>\u001b[0m in \u001b[0;36mset_score\u001b[1;34m(self, value)\u001b[0m\n\u001b[0;32m      8\u001b[0m             \u001b[1;32mraise\u001b[0m \u001b[0mValueError\u001b[0m\u001b[1;33m(\u001b[0m\u001b[1;34m'score must be an integer!'\u001b[0m\u001b[1;33m)\u001b[0m\u001b[1;33m\u001b[0m\u001b[0m\n\u001b[0;32m      9\u001b[0m         \u001b[1;32mif\u001b[0m \u001b[0mvalue\u001b[0m \u001b[1;33m<\u001b[0m \u001b[1;36m0\u001b[0m \u001b[1;32mor\u001b[0m \u001b[0mvalue\u001b[0m \u001b[1;33m>\u001b[0m \u001b[1;36m100\u001b[0m\u001b[1;33m:\u001b[0m\u001b[1;33m\u001b[0m\u001b[0m\n\u001b[1;32m---> 10\u001b[1;33m             \u001b[1;32mraise\u001b[0m \u001b[0mValueError\u001b[0m\u001b[1;33m(\u001b[0m\u001b[1;34m'score must between 0 ~ 100!'\u001b[0m\u001b[1;33m)\u001b[0m\u001b[1;33m\u001b[0m\u001b[0m\n\u001b[0m\u001b[0;32m     11\u001b[0m         \u001b[0mself\u001b[0m\u001b[1;33m.\u001b[0m\u001b[0m_score\u001b[0m \u001b[1;33m=\u001b[0m \u001b[0mvalue\u001b[0m\u001b[1;33m\u001b[0m\u001b[0m\n\u001b[0;32m     12\u001b[0m \u001b[1;33m\u001b[0m\u001b[0m\n",
      "\u001b[1;31mValueError\u001b[0m: score must between 0 ~ 100!"
     ]
    }
   ],
   "source": [
    "class Student(object):\n",
    "\n",
    "    def get_score(self):\n",
    "         return self._score\n",
    "\n",
    "    def set_score(self, value):\n",
    "        if not isinstance(value, int):\n",
    "            raise ValueError('score must be an integer!')\n",
    "        if value < 0 or value > 100:\n",
    "            raise ValueError('score must between 0 ~ 100!')\n",
    "        self._score = value\n",
    "        \n",
    "# score 属性就不可以随便设置\n",
    "s = Student()\n",
    "s.set_score(60) # ok!\n",
    "print(s.get_score())\n",
    "\n",
    "s.set_score(9999)"
   ]
  },
  {
   "cell_type": "markdown",
   "metadata": {},
   "source": [
    "### 使用@property将方法转成属性调用\n",
    "\n",
    "上面属性的设置较为麻烦，python内置的 `@property` 装饰器就是负责把一个方法变成属性调用。"
   ]
  },
  {
   "cell_type": "code",
   "execution_count": 13,
   "metadata": {},
   "outputs": [],
   "source": [
    "class Student(object):\n",
    "\n",
    "    @property\n",
    "    def score(self):\n",
    "        return self._score\n",
    "\n",
    "    @score.setter\n",
    "    def score(self, value):\n",
    "        if not isinstance(value, int):\n",
    "            raise ValueError('score must be an integer!')\n",
    "        if value < 0 or value > 100:\n",
    "            raise ValueError('score must between 0 ~ 100!')\n",
    "        self._score = value"
   ]
  },
  {
   "cell_type": "markdown",
   "metadata": {},
   "source": [
    "`@property`的实现比较复杂，我们先考察如何使用。把一个`getter`方法变成属性，只需要加上`@property`就可以了，此时，`@property`本身又创建了另一个装饰器`@score.setter`，负责把一个`setter`方法变成属性赋值，于是，我们就拥有一个可控的属性操作。"
   ]
  },
  {
   "cell_type": "code",
   "execution_count": 14,
   "metadata": {},
   "outputs": [
    {
     "name": "stdout",
     "output_type": "stream",
     "text": [
      "60\n"
     ]
    },
    {
     "ename": "ValueError",
     "evalue": "score must between 0 ~ 100!",
     "output_type": "error",
     "traceback": [
      "\u001b[1;31m---------------------------------------------------------------------------\u001b[0m",
      "\u001b[1;31mValueError\u001b[0m                                Traceback (most recent call last)",
      "\u001b[1;32m<ipython-input-14-338eaaaafa9b>\u001b[0m in \u001b[0;36m<module>\u001b[1;34m()\u001b[0m\n\u001b[0;32m      3\u001b[0m \u001b[0mprint\u001b[0m\u001b[1;33m(\u001b[0m\u001b[0ms\u001b[0m\u001b[1;33m.\u001b[0m\u001b[0mscore\u001b[0m\u001b[1;33m)\u001b[0m \u001b[1;31m# OK，实际转化为s.get_score()\u001b[0m\u001b[1;33m\u001b[0m\u001b[0m\n\u001b[0;32m      4\u001b[0m \u001b[1;33m\u001b[0m\u001b[0m\n\u001b[1;32m----> 5\u001b[1;33m \u001b[0ms\u001b[0m\u001b[1;33m.\u001b[0m\u001b[0mscore\u001b[0m \u001b[1;33m=\u001b[0m \u001b[1;36m9999\u001b[0m\u001b[1;33m\u001b[0m\u001b[0m\n\u001b[0m",
      "\u001b[1;32m<ipython-input-13-57f562f34ace>\u001b[0m in \u001b[0;36mscore\u001b[1;34m(self, value)\u001b[0m\n\u001b[0;32m     10\u001b[0m             \u001b[1;32mraise\u001b[0m \u001b[0mValueError\u001b[0m\u001b[1;33m(\u001b[0m\u001b[1;34m'score must be an integer!'\u001b[0m\u001b[1;33m)\u001b[0m\u001b[1;33m\u001b[0m\u001b[0m\n\u001b[0;32m     11\u001b[0m         \u001b[1;32mif\u001b[0m \u001b[0mvalue\u001b[0m \u001b[1;33m<\u001b[0m \u001b[1;36m0\u001b[0m \u001b[1;32mor\u001b[0m \u001b[0mvalue\u001b[0m \u001b[1;33m>\u001b[0m \u001b[1;36m100\u001b[0m\u001b[1;33m:\u001b[0m\u001b[1;33m\u001b[0m\u001b[0m\n\u001b[1;32m---> 12\u001b[1;33m             \u001b[1;32mraise\u001b[0m \u001b[0mValueError\u001b[0m\u001b[1;33m(\u001b[0m\u001b[1;34m'score must between 0 ~ 100!'\u001b[0m\u001b[1;33m)\u001b[0m\u001b[1;33m\u001b[0m\u001b[0m\n\u001b[0m\u001b[0;32m     13\u001b[0m         \u001b[0mself\u001b[0m\u001b[1;33m.\u001b[0m\u001b[0m_score\u001b[0m \u001b[1;33m=\u001b[0m \u001b[0mvalue\u001b[0m\u001b[1;33m\u001b[0m\u001b[0m\n",
      "\u001b[1;31mValueError\u001b[0m: score must between 0 ~ 100!"
     ]
    }
   ],
   "source": [
    "s = Student()\n",
    "s.score = 60 # OK，实际转化为s.set_score(60)\n",
    "print(s.score) # OK，实际转化为s.get_score()\n",
    "\n",
    "s.score = 9999"
   ]
  },
  {
   "cell_type": "markdown",
   "metadata": {},
   "source": [
    "### 设置只读属性\n",
    "只定义getter方法，不定义setter方法就是一个只读属性，如下，`birth`是可读写属性，而`age`就是一个只读属性，因为`age`可以根据`birth`和当前时间计算出来。"
   ]
  },
  {
   "cell_type": "code",
   "execution_count": 15,
   "metadata": {},
   "outputs": [],
   "source": [
    "class Student(object):\n",
    "\n",
    "    @property\n",
    "    def birth(self):\n",
    "        return self._birth\n",
    "\n",
    "    @birth.setter\n",
    "    def birth(self, value):\n",
    "        self._birth = value\n",
    "\n",
    "    @property\n",
    "    def age(self):\n",
    "        return 2015 - self._birth"
   ]
  },
  {
   "cell_type": "markdown",
   "metadata": {},
   "source": [
    "###  练习\n",
    "利用`@property`给一个`Screen`对象加上`width`和`height`属性，以及一个只读属性`resolution`。"
   ]
  },
  {
   "cell_type": "code",
   "execution_count": 18,
   "metadata": {},
   "outputs": [
    {
     "name": "stdout",
     "output_type": "stream",
     "text": [
      "resolution = 786432\n",
      "测试通过!\n"
     ]
    }
   ],
   "source": [
    "class Screen(object):\n",
    "    @property\n",
    "    def width(self):\n",
    "        return self._width\n",
    "    @width.setter\n",
    "    def width(self, value):\n",
    "        self._width = value\n",
    "        \n",
    "    @property\n",
    "    def height(self):\n",
    "        return self._height\n",
    "    @height.setter\n",
    "    def height(self, value):\n",
    "        self._height = value\n",
    "    \n",
    "    @property\n",
    "    def resolution(self):\n",
    "        return self._width * self._height\n",
    "\n",
    "# 测试:\n",
    "s = Screen()\n",
    "s.width = 1024\n",
    "s.height = 768\n",
    "print('resolution =', s.resolution)\n",
    "if s.resolution == 786432:\n",
    "    print('测试通过!')\n",
    "else:\n",
    "    print('测试失败!')"
   ]
  },
  {
   "cell_type": "markdown",
   "metadata": {},
   "source": [
    "## 多重继承\n",
    "\n",
    "### 类层次的划分\n",
    "通过继承，子类就可以扩展父类的功能。对于类的继承结构，不同的划分方法具有不同结构。对于`Animal`类，要对如下几个动物进行划分\n",
    "```\n",
    "Dog - 狗狗；\n",
    "Bat - 蝙蝠；\n",
    "Parrot - 鹦鹉；\n",
    "Ostrich - 鸵鸟。\n",
    "```\n",
    "我们可以按照哺乳动物和鸟类归类设计类的层次结构，也可以按照“能跑”和“能飞”来归类。\n",
    "![image](http://wx3.sinaimg.cn/large/69d4185bly1fn236l4bf5j20kz078weg.jpg)\n",
    "\n",
    "如果要把上面的两种分类都包含进来，我们就得设计更多的层次：\n",
    "- 哺乳类：能跑的哺乳类，能飞的哺乳类；\n",
    "- 鸟类：能跑的鸟类，能飞的鸟类。\n",
    "这么一来，类的层次就复杂了。\n",
    "![image](http://wx3.sinaimg.cn/large/69d4185bly1fn2376v6ujj20ba08vjr9.jpg)\n",
    "\n",
    "如果要再增加“宠物类”和“非宠物类”，这么搞下去，类的数量会呈指数增长，很明显这样设计是不行的。\n",
    "\n",
    "正确的做法是采用多重继承。首先，主要的类层次仍按照哺乳类和鸟类设计："
   ]
  },
  {
   "cell_type": "code",
   "execution_count": 22,
   "metadata": {},
   "outputs": [],
   "source": [
    "class Animal(object):\n",
    "    pass\n",
    "\n",
    "# 大类:\n",
    "class Mammal(Animal):\n",
    "    pass\n",
    "\n",
    "class Bird(Animal):\n",
    "    pass\n",
    "\n",
    "# 各种动物:\n",
    "class Dog(Mammal):\n",
    "    pass\n",
    "\n",
    "class Bat(Mammal):\n",
    "    pass\n",
    "\n",
    "class Parrot(Bird):\n",
    "    pass\n",
    "\n",
    "class Ostrich(Bird):\n",
    "    pass"
   ]
  },
  {
   "cell_type": "markdown",
   "metadata": {},
   "source": [
    "现在，我们要给动物再加上`Runnable`和`Flyable`的功能，只需要先定义好`Runnable`和`Flyable`的类"
   ]
  },
  {
   "cell_type": "code",
   "execution_count": 19,
   "metadata": {},
   "outputs": [],
   "source": [
    "class Runnable(object):\n",
    "    def run(self):\n",
    "        print('Running...')\n",
    "\n",
    "class Flyable(object):\n",
    "    def fly(self):\n",
    "        print('Flying...')"
   ]
  },
  {
   "cell_type": "markdown",
   "metadata": {},
   "source": [
    "对于需要`Runnable`功能的动物，就多继承一个`Runnable`，例如`Dog`；对于需要`Flyable`功能的动物，就多继承一个`Flyable`，例如`Bat`。通过多重继承，一个子类就可以同时获得多个父类的所有功能。"
   ]
  },
  {
   "cell_type": "code",
   "execution_count": null,
   "metadata": {},
   "outputs": [],
   "source": [
    "class Dog(Mammal, Runnable):\n",
    "    pass\n",
    "\n",
    "class Bat(Mammal, Flyable):\n",
    "    pass"
   ]
  },
  {
   "cell_type": "markdown",
   "metadata": {},
   "source": [
    "### MixIn\n",
    "在设计类的继承关系时，通常，主线都是单一继承下来的，例如，`Ostrich`继承自`Bird`。但是，如果需要“混入”额外的功能，通过多重继承就可以实现，比如，让`Ostrich`除了继承自`Bird`外，再同时继承`Runnable`。这种设计通常称之为`MixIn`。\n",
    "\n",
    "为了更好地看出继承关系，我们把`Runnable`和`Flyable`改为`RunnableMixIn`和`FlyableMixIn`。类似的，你还可以定义出肉食动物`CarnivorousMixIn`和植食动物`HerbivoresMixIn`，让某个动物同时拥有好几个`MixIn`。"
   ]
  },
  {
   "cell_type": "code",
   "execution_count": 25,
   "metadata": {},
   "outputs": [],
   "source": [
    "class RunnableMixIn(object):\n",
    "    pass\n",
    "\n",
    "class CarnivorousMixIn(object):\n",
    "    pass\n",
    "\n",
    "class Dog(Mammal, RunnableMixIn, CarnivorousMixIn):\n",
    "    pass"
   ]
  },
  {
   "cell_type": "markdown",
   "metadata": {},
   "source": [
    "MixIn的目的就是给一个类增加多个功能，这样，在设计类的时候，我们优先考虑通过多重继承来组合多个MixIn的功能，而不是设计多层次的复杂的继承关系。\n",
    "\n",
    "Python自带的很多库也使用了MixIn。举个例子，Python自带了`TCPServer`和`UDPServer`这两类网络服务，而要同时服务多个用户就必须使用多进程或多线程模型，这两种模型由`ForkingMixIn`和`ThreadingMixIn`提供。通过组合，我们就可以创造出合适的服务来。"
   ]
  },
  {
   "cell_type": "code",
   "execution_count": null,
   "metadata": {},
   "outputs": [],
   "source": [
    "# 编写一个多进程模式的TCP服务\n",
    "class MyTCPServer(TCPServer, ForkingMixIn):\n",
    "    pass\n",
    "\n",
    "# 编写一个多线程模式的UDP服务\n",
    "class MyUDPServer(UDPServer, ThreadingMixIn):\n",
    "    pass\n",
    "\n",
    "# 更先进的协程模型，可以编写一个CoroutineMixIn\n",
    "class MyTCPServer(TCPServer, CoroutineMixIn):\n",
    "    pass"
   ]
  },
  {
   "cell_type": "markdown",
   "metadata": {},
   "source": [
    "## 定制类\n",
    "看到类似`__slots__`这种形如`__xxx__`的变量或者函数名就要注意，这些在Python中是有特殊用途的。\n",
    "\n",
    "`__slots__`我们已经知道怎么用了，`__len__()`方法我们也知道是为了能让`class`作用于`len()`函数。\n",
    "\n",
    "除此之外，Python的class中还有许多这样有特殊用途的函数，可以帮助我们定制类。详细的特殊函数使用可以参考 Python 官网 [Special method names](https://docs.python.org/3/reference/datamodel.html#special-method-names)"
   ]
  },
  {
   "cell_type": "markdown",
   "metadata": {},
   "source": [
    "### \\__str\\__\n",
    "`__str__()`方法可以用于定制一个格式化的打印参数。如在但打印类的时候，通常是把类在内存中的地址打印出来，在类中添加 `__str__()` 可以定制打印的内容，也使得打印出的内容更易于理解。"
   ]
  },
  {
   "cell_type": "code",
   "execution_count": 27,
   "metadata": {},
   "outputs": [
    {
     "name": "stdout",
     "output_type": "stream",
     "text": [
      "Student object (name: Michael)\n"
     ]
    },
    {
     "data": {
      "text/plain": [
       "<__main__.Student at 0x27c13ed7be0>"
      ]
     },
     "execution_count": 27,
     "metadata": {},
     "output_type": "execute_result"
    }
   ],
   "source": [
    "class Student(object):\n",
    "    def __init__(self, name):\n",
    "        self.name = name\n",
    "        \n",
    "    def __str__(self):\n",
    "        return 'Student object (name: %s)' % self.name\n",
    "\n",
    "s = Student('Michael')\n",
    "print(s)\n",
    "s"
   ]
  },
  {
   "cell_type": "markdown",
   "metadata": {},
   "source": [
    "从上面可以看到，不适用`print`，直接调用实例打印的还是之前的内容。\n",
    "\n",
    "这是因为直接显示变量调用的不是`__str__()`，而是`__repr__()`，两者的区别是`__str__()`返回用户看到的字符串，而`__repr__()`返回程序开发者看到的字符串，也就是说，`__repr__()`是为调试服务的。\n",
    "\n",
    "解决办法是再定义一个`__repr__()`。但是通常`__str__()`和`__repr__()`代码都是一样的，所以，有个偷懒的写法："
   ]
  },
  {
   "cell_type": "code",
   "execution_count": 28,
   "metadata": {},
   "outputs": [
    {
     "name": "stdout",
     "output_type": "stream",
     "text": [
      "Student object (name=Michael)\n"
     ]
    },
    {
     "data": {
      "text/plain": [
       "Student object (name=Michael)"
      ]
     },
     "execution_count": 28,
     "metadata": {},
     "output_type": "execute_result"
    }
   ],
   "source": [
    "class Student(object):\n",
    "    def __init__(self, name):\n",
    "        self.name = name\n",
    "    def __str__(self):\n",
    "        return 'Student object (name=%s)' % self.name\n",
    "    __repr__ = __str__\n",
    "    \n",
    "s = Student('Michael')\n",
    "print(s)\n",
    "s"
   ]
  },
  {
   "cell_type": "markdown",
   "metadata": {},
   "source": [
    "###  \\__iter\\__\n",
    "\n",
    "如果一个类想被用于`for ... in`循环，类似`list`或`tuple`那样，就必须实现一个`__iter__()`方法，该方法返回一个迭代对象，然后，Python的`for`循环就会不断调用该迭代对象的`__next__()`方法拿到循环的下一个值，直到遇到`StopIteration`错误时退出循环。\n",
    "\n",
    "以斐波那契数列为例，写一个Fib类，可以作用于for循环："
   ]
  },
  {
   "cell_type": "code",
   "execution_count": 29,
   "metadata": {},
   "outputs": [
    {
     "name": "stdout",
     "output_type": "stream",
     "text": [
      "1\n",
      "1\n",
      "2\n",
      "3\n"
     ]
    }
   ],
   "source": [
    "class Fib(object):\n",
    "    def __init__(self):\n",
    "        self.a, self.b = 0, 1 # 初始化两个计数器a，b\n",
    "\n",
    "    def __iter__(self):\n",
    "        return self # 实例本身就是迭代对象，故返回自己\n",
    "\n",
    "    def __next__(self):\n",
    "        self.a, self.b = self.b, self.a + self.b # 计算下一个值\n",
    "        if self.a > 4: # 退出循环的条件\n",
    "            raise StopIteration()\n",
    "        return self.a # 返回下一个值\n",
    "\n",
    "# 将 for in 用于 fib 类\n",
    "for n in Fib():\n",
    "    print(n)"
   ]
  },
  {
   "cell_type": "markdown",
   "metadata": {},
   "source": [
    "### \\__getitem\\__\n",
    "\n",
    "Fib实例虽然能作用于for循环，看起来和list有点像，但是，把它当成list来使用还是不行，比如，取第5个元素。要表现得像list那样按照下标取出元素，需要实现`__getitem__()`方法。"
   ]
  },
  {
   "cell_type": "code",
   "execution_count": 31,
   "metadata": {},
   "outputs": [
    {
     "ename": "TypeError",
     "evalue": "'Fib' object does not support indexing",
     "output_type": "error",
     "traceback": [
      "\u001b[1;31m---------------------------------------------------------------------------\u001b[0m",
      "\u001b[1;31mTypeError\u001b[0m                                 Traceback (most recent call last)",
      "\u001b[1;32m<ipython-input-31-14290f619470>\u001b[0m in \u001b[0;36m<module>\u001b[1;34m()\u001b[0m\n\u001b[1;32m----> 1\u001b[1;33m \u001b[0mFib\u001b[0m\u001b[1;33m(\u001b[0m\u001b[1;33m)\u001b[0m\u001b[1;33m[\u001b[0m\u001b[1;36m5\u001b[0m\u001b[1;33m]\u001b[0m\u001b[1;33m\u001b[0m\u001b[0m\n\u001b[0m",
      "\u001b[1;31mTypeError\u001b[0m: 'Fib' object does not support indexing"
     ]
    }
   ],
   "source": [
    "Fib()[5]"
   ]
  },
  {
   "cell_type": "code",
   "execution_count": 32,
   "metadata": {},
   "outputs": [
    {
     "name": "stdout",
     "output_type": "stream",
     "text": [
      "1\n",
      "2\n",
      "3\n",
      "21\n"
     ]
    }
   ],
   "source": [
    "class Fib(object):\n",
    "    def __getitem__(self, n):\n",
    "        a, b = 1, 1\n",
    "        for x in range(n):\n",
    "            a, b = b, a + b\n",
    "        return a\n",
    "f = Fib()\n",
    "print(f[1])\n",
    "print(f[2])\n",
    "print(f[3])\n",
    "print(f[7])"
   ]
  },
  {
   "cell_type": "markdown",
   "metadata": {},
   "source": [
    "单 list 的切片法此时并不能用，原因是`__getitem__()`传入的参数可能是一个`int`，也可能是一个切片对象`slice`，所以要做判断："
   ]
  },
  {
   "cell_type": "code",
   "execution_count": 34,
   "metadata": {},
   "outputs": [
    {
     "name": "stdout",
     "output_type": "stream",
     "text": [
      "[1, 1, 2, 3, 5]\n",
      "[1, 1, 2, 3, 5, 8, 13, 21, 34, 55]\n",
      "[1, 1, 2, 3, 5, 8, 13, 21, 34, 55]\n"
     ]
    }
   ],
   "source": [
    "class Fib(object):\n",
    "    def __getitem__(self, n):\n",
    "        if isinstance(n, int): # n是索引\n",
    "            a, b = 1, 1\n",
    "            for x in range(n):\n",
    "                a, b = b, a + b\n",
    "            return a\n",
    "        if isinstance(n, slice): # n是切片\n",
    "            start = n.start\n",
    "            stop = n.stop\n",
    "            if start is None:\n",
    "                start = 0\n",
    "            a, b = 1, 1\n",
    "            L = []\n",
    "            for x in range(stop):\n",
    "                if x >= start:\n",
    "                    L.append(a)\n",
    "                a, b = b, a + b\n",
    "            return L\n",
    "\n",
    "# 在 Fib 的实例对象上调用切片方法\n",
    "f = Fib()\n",
    "print(f[0:5])\n",
    "print(f[:10])\n",
    "\n",
    "# 没有对步长进行处理\n",
    "print(f[:10:2])"
   ]
  },
  {
   "cell_type": "markdown",
   "metadata": {},
   "source": [
    "也没有对负数作处理，所以，要正确实现一个`__getitem__()`还是有很多工作要做的。\n",
    "\n",
    "此外，如果把对象看成`dict`，`__getitem__()`的参数也可能是一个可以作`key`的`object`，例如`str`。\n",
    "\n",
    "与之对应的是`__setitem__()`方法，把对象视作`list`或`dict`来对集合赋值。最后，还有一个`__delitem__()`方法，用于删除某个元素。\n",
    "\n",
    "总之，通过上面的方法，我们自己定义的类表现得和Python自带的`list`、`tuple`、`dict`没什么区别，这完全归功于动态语言的“鸭子类型”，不需要强制继承某个接口。\n",
    "\n",
    "### \\__getattr\\__\n",
    "正常情况下，当我们调用类的方法或属性时，如果不存在，就会报错。比如定义`Student`类，调用`name`属性，没问题，但是，调用不存在的`score`属性，就有问题了。"
   ]
  },
  {
   "cell_type": "code",
   "execution_count": 38,
   "metadata": {},
   "outputs": [
    {
     "name": "stdout",
     "output_type": "stream",
     "text": [
      "Michael\n"
     ]
    },
    {
     "ename": "AttributeError",
     "evalue": "'Student' object has no attribute 'score'",
     "output_type": "error",
     "traceback": [
      "\u001b[1;31m---------------------------------------------------------------------------\u001b[0m",
      "\u001b[1;31mAttributeError\u001b[0m                            Traceback (most recent call last)",
      "\u001b[1;32m<ipython-input-38-16eff8e12a67>\u001b[0m in \u001b[0;36m<module>\u001b[1;34m()\u001b[0m\n\u001b[0;32m      6\u001b[0m \u001b[0mprint\u001b[0m\u001b[1;33m(\u001b[0m\u001b[0ms\u001b[0m\u001b[1;33m.\u001b[0m\u001b[0mname\u001b[0m\u001b[1;33m)\u001b[0m\u001b[1;33m\u001b[0m\u001b[0m\n\u001b[0;32m      7\u001b[0m \u001b[1;31m# 报错\u001b[0m\u001b[1;33m\u001b[0m\u001b[1;33m\u001b[0m\u001b[0m\n\u001b[1;32m----> 8\u001b[1;33m \u001b[0mprint\u001b[0m\u001b[1;33m(\u001b[0m\u001b[0ms\u001b[0m\u001b[1;33m.\u001b[0m\u001b[0mscore\u001b[0m\u001b[1;33m)\u001b[0m\u001b[1;33m\u001b[0m\u001b[0m\n\u001b[0m",
      "\u001b[1;31mAttributeError\u001b[0m: 'Student' object has no attribute 'score'"
     ]
    }
   ],
   "source": [
    "class Student(object):\n",
    "    def __init__(self):\n",
    "        self.name = 'Michael'\n",
    "\n",
    "s = Student()\n",
    "print(s.name)\n",
    "# 报错\n",
    "print(s.score)"
   ]
  },
  {
   "cell_type": "markdown",
   "metadata": {},
   "source": [
    "错误信息很清楚地告诉我们，没有找到`score`这个`attribute`。\n",
    "\n",
    "要避免这个错误，除了可以加上一个`score`属性外，Python还有另一个机制，那就是写一个`__getattr__()`方法，动态返回一个属性。\n",
    "\n",
    "当调用不存在的属性时，比如`score`，Python解释器会试图调用`__getattr__(self, 'score')`来尝试获得属性，这样，我们就有机会返回score的值。"
   ]
  },
  {
   "cell_type": "code",
   "execution_count": 39,
   "metadata": {},
   "outputs": [
    {
     "name": "stdout",
     "output_type": "stream",
     "text": [
      "Michael\n",
      "99\n"
     ]
    }
   ],
   "source": [
    "class Student(object):\n",
    "\n",
    "    def __init__(self):\n",
    "        self.name = 'Michael'\n",
    "\n",
    "    def __getattr__(self, attr):\n",
    "        if attr=='score':\n",
    "            return 99\n",
    "\n",
    "s = Student()\n",
    "print(s.name)\n",
    "print(s.score)"
   ]
  },
  {
   "cell_type": "markdown",
   "metadata": {},
   "source": [
    "返回函数也是完全可以的，调用的时候要使用调用函数的方式。"
   ]
  },
  {
   "cell_type": "code",
   "execution_count": 42,
   "metadata": {},
   "outputs": [
    {
     "name": "stdout",
     "output_type": "stream",
     "text": [
      "25\n"
     ]
    }
   ],
   "source": [
    "class Student(object):\n",
    "\n",
    "    def __getattr__(self, attr):\n",
    "        if attr=='age':\n",
    "            return lambda: 25\n",
    "s = Student()\n",
    "print(s.age())"
   ]
  },
  {
   "cell_type": "markdown",
   "metadata": {},
   "source": [
    "注意，只有在没有找到属性的情况下，才调用`__getattr__`，已有的属性，比如`name`，不会在`__getattr__`中查找。\n",
    "\n",
    "此外，注意到任意调用如`s.abc`都会返回`None`，这是因为我们定义的`__getattr__`默认返回就是`None`。要让class只响应特定的几个属性，我们就要按照约定，抛出`AttributeError`的错误："
   ]
  },
  {
   "cell_type": "code",
   "execution_count": 43,
   "metadata": {},
   "outputs": [],
   "source": [
    "class Student(object):\n",
    "\n",
    "    def __getattr__(self, attr):\n",
    "        if attr=='age':\n",
    "            return lambda: 25\n",
    "        # 未响应到的抛出错误\n",
    "        raise AttributeError('\\'Student\\' object has no attribute \\'%s\\'' % attr)"
   ]
  },
  {
   "cell_type": "markdown",
   "metadata": {},
   "source": [
    "这实际上可以把一个类的所有属性和方法调用全部动态化处理了，不需要任何特殊手段。\n",
    "\n",
    "这种完全动态调用的特性有什么实际作用呢？作用就是，可以针对完全动态的情况作调用。\n",
    "\n",
    "举个例子：现在很多网站都搞REST API，比如新浪微博、豆瓣啥的，调用API的URL类似：\n",
    "\n",
    "- http://api.server/user/friends\n",
    "- http://api.server/user/timeline/list\n",
    "\n",
    "如果要写SDK，给每个URL对应的API都写一个方法，那得累死，而且，API一旦改动，SDK也要改。\n",
    "\n",
    "利用完全动态的`__getattr__`，我们可以写出一个链式调用："
   ]
  },
  {
   "cell_type": "code",
   "execution_count": 44,
   "metadata": {},
   "outputs": [
    {
     "data": {
      "text/plain": [
       "/user/get/userinfo/list"
      ]
     },
     "execution_count": 44,
     "metadata": {},
     "output_type": "execute_result"
    }
   ],
   "source": [
    "class Chain(object):\n",
    "\n",
    "    def __init__(self, path=''):\n",
    "        self._path = path\n",
    "\n",
    "    def __getattr__(self, path):\n",
    "        return Chain('%s/%s' % (self._path, path))\n",
    "\n",
    "    def __str__(self):\n",
    "        return self._path\n",
    "\n",
    "    __repr__ = __str__\n",
    "\n",
    "Chain().user.get.userinfo.list"
   ]
  },
  {
   "cell_type": "markdown",
   "metadata": {},
   "source": [
    "### \\__call\\__\n",
    "一个对象实例可以有自己的属性和方法，当我们调用实例方法时，我们用`instance.method()`来调用。能不能直接在实例本身上调用呢？在Python中，答案是肯定的。\n",
    "\n",
    "任何类，只需要定义一个`__call__()`方法，就可以直接对实例进行调用。"
   ]
  },
  {
   "cell_type": "code",
   "execution_count": 45,
   "metadata": {},
   "outputs": [
    {
     "name": "stdout",
     "output_type": "stream",
     "text": [
      "My name is Michael.\n"
     ]
    }
   ],
   "source": [
    "class Student(object):\n",
    "    def __init__(self, name):\n",
    "        self.name = name\n",
    "\n",
    "    def __call__(self):\n",
    "        print('My name is %s.' % self.name)\n",
    "        \n",
    "s = Student('Michael')\n",
    "# 在实例本上调用方法\n",
    "s()"
   ]
  },
  {
   "cell_type": "markdown",
   "metadata": {},
   "source": [
    "`__call__()`还可以定义参数。对实例进行直接调用就好比对一个函数进行调用一样，所以你完全可以把对象看成函数，把函数看成对象，因为这两者之间本来就没啥根本的区别。\n",
    "\n",
    "如果你把对象看成函数，那么函数本身其实也可以在运行期动态创建出来，因为类的实例都是运行期创建出来的，这么一来，我们就模糊了对象和函数的界限。\n",
    "\n",
    "那么，怎么判断一个变量是对象还是函数呢？其实，更多的时候，我们需要判断一个对象是否能被调用，能被调用的对象就是一个`Callable`对象，比如函数和我们上面定义的带有`__call__()`的类实例："
   ]
  },
  {
   "cell_type": "code",
   "execution_count": 47,
   "metadata": {},
   "outputs": [
    {
     "name": "stdout",
     "output_type": "stream",
     "text": [
      "True\n",
      "True\n",
      "False\n",
      "False\n",
      "False\n"
     ]
    }
   ],
   "source": [
    "print(callable(Student(\"hello\")))\n",
    "print(callable(max))\n",
    "print(callable([1, 2, 3]))\n",
    "print(callable(None))\n",
    "print(callable('str'))"
   ]
  },
  {
   "cell_type": "markdown",
   "metadata": {},
   "source": [
    "## 使用枚举类\n",
    "当我们需要定义常量时，一个办法是用大写变量通过整数来定义，例如月份：\n",
    "```\n",
    "JAN = 1\n",
    "FEB = 2\n",
    "MAR = 3\n",
    "...\n",
    "NOV = 11\n",
    "DEC = 12\n",
    "```\n",
    "好处是简单，缺点是类型是`int`，并且仍然是变量。\n",
    "\n",
    "更好的方法是为这样的枚举类型定义一个class类型，然后，每个常量都是class的一个唯一实例。Python提供了`Enum`类来实现这个功能。\n",
    "\n",
    "这样我们就获得了`Month`类型的枚举类，可以直接使用`Month.Jan`来引用一个常量，或者枚举它的所有成员。"
   ]
  },
  {
   "cell_type": "code",
   "execution_count": 48,
   "metadata": {},
   "outputs": [
    {
     "name": "stdout",
     "output_type": "stream",
     "text": [
      "Jan => Month.Jan , 1\n",
      "Feb => Month.Feb , 2\n",
      "Mar => Month.Mar , 3\n",
      "Apr => Month.Apr , 4\n",
      "May => Month.May , 5\n",
      "Jun => Month.Jun , 6\n",
      "Jul => Month.Jul , 7\n",
      "Aug => Month.Aug , 8\n",
      "Sep => Month.Sep , 9\n",
      "Oct => Month.Oct , 10\n",
      "Nov => Month.Nov , 11\n",
      "Dec => Month.Dec , 12\n"
     ]
    }
   ],
   "source": [
    "from enum import Enum\n",
    "\n",
    "Month = Enum('Month', ('Jan', 'Feb', 'Mar', 'Apr', 'May', 'Jun', 'Jul', 'Aug', 'Sep', 'Oct', 'Nov', 'Dec'))\n",
    "\n",
    "for name, member in Month.__members__.items():\n",
    "    print(name, '=>', member, ',', member.value)"
   ]
  },
  {
   "cell_type": "markdown",
   "metadata": {},
   "source": [
    "`value`属性则是自动赋给成员的`int`常量，默认从1开始计数。\n",
    "\n",
    "如果需要更精确地控制枚举类型，可以从`Enum`派生出自定义类："
   ]
  },
  {
   "cell_type": "code",
   "execution_count": 49,
   "metadata": {},
   "outputs": [],
   "source": [
    "from enum import Enum, unique\n",
    "\n",
    "# @unique装饰器可以帮助我们检查保证没有重复值。\n",
    "@unique\n",
    "class Weekday(Enum):\n",
    "    Sun = 0 # Sun的value被设定为0\n",
    "    Mon = 1\n",
    "    Tue = 2\n",
    "    Wed = 3\n",
    "    Thu = 4\n",
    "    Fri = 5\n",
    "    Sat = 6"
   ]
  },
  {
   "cell_type": "markdown",
   "metadata": {},
   "source": [
    "访问这些枚举类型可以有若干种方法："
   ]
  },
  {
   "cell_type": "code",
   "execution_count": 50,
   "metadata": {},
   "outputs": [
    {
     "name": "stdout",
     "output_type": "stream",
     "text": [
      "Weekday.Mon\n",
      "Weekday.Mon\n",
      "1\n",
      "True\n",
      "False\n",
      "Weekday.Mon\n",
      "True\n",
      "Sun => Weekday.Sun\n",
      "Mon => Weekday.Mon\n",
      "Tue => Weekday.Tue\n",
      "Wed => Weekday.Wed\n",
      "Thu => Weekday.Thu\n",
      "Fri => Weekday.Fri\n",
      "Sat => Weekday.Sat\n"
     ]
    },
    {
     "ename": "ValueError",
     "evalue": "7 is not a valid Weekday",
     "output_type": "error",
     "traceback": [
      "\u001b[1;31m---------------------------------------------------------------------------\u001b[0m",
      "\u001b[1;31mValueError\u001b[0m                                Traceback (most recent call last)",
      "\u001b[1;32m<ipython-input-50-385c0c2d4a02>\u001b[0m in \u001b[0;36m<module>\u001b[1;34m()\u001b[0m\n\u001b[0;32m     10\u001b[0m     \u001b[0mprint\u001b[0m\u001b[1;33m(\u001b[0m\u001b[0mname\u001b[0m\u001b[1;33m,\u001b[0m \u001b[1;34m'=>'\u001b[0m\u001b[1;33m,\u001b[0m \u001b[0mmember\u001b[0m\u001b[1;33m)\u001b[0m\u001b[1;33m\u001b[0m\u001b[0m\n\u001b[0;32m     11\u001b[0m \u001b[1;33m\u001b[0m\u001b[0m\n\u001b[1;32m---> 12\u001b[1;33m \u001b[0mWeekday\u001b[0m\u001b[1;33m(\u001b[0m\u001b[1;36m7\u001b[0m\u001b[1;33m)\u001b[0m\u001b[1;33m\u001b[0m\u001b[0m\n\u001b[0m",
      "\u001b[1;32mD:\\ProgramData\\Anaconda3\\envs\\py36\\lib\\enum.py\u001b[0m in \u001b[0;36m__call__\u001b[1;34m(cls, value, names, module, qualname, type, start)\u001b[0m\n\u001b[0;32m    289\u001b[0m         \"\"\"\n\u001b[0;32m    290\u001b[0m         \u001b[1;32mif\u001b[0m \u001b[0mnames\u001b[0m \u001b[1;32mis\u001b[0m \u001b[1;32mNone\u001b[0m\u001b[1;33m:\u001b[0m  \u001b[1;31m# simple value lookup\u001b[0m\u001b[1;33m\u001b[0m\u001b[0m\n\u001b[1;32m--> 291\u001b[1;33m             \u001b[1;32mreturn\u001b[0m \u001b[0mcls\u001b[0m\u001b[1;33m.\u001b[0m\u001b[0m__new__\u001b[0m\u001b[1;33m(\u001b[0m\u001b[0mcls\u001b[0m\u001b[1;33m,\u001b[0m \u001b[0mvalue\u001b[0m\u001b[1;33m)\u001b[0m\u001b[1;33m\u001b[0m\u001b[0m\n\u001b[0m\u001b[0;32m    292\u001b[0m         \u001b[1;31m# otherwise, functional API: we're creating a new Enum type\u001b[0m\u001b[1;33m\u001b[0m\u001b[1;33m\u001b[0m\u001b[0m\n\u001b[0;32m    293\u001b[0m         \u001b[1;32mreturn\u001b[0m \u001b[0mcls\u001b[0m\u001b[1;33m.\u001b[0m\u001b[0m_create_\u001b[0m\u001b[1;33m(\u001b[0m\u001b[0mvalue\u001b[0m\u001b[1;33m,\u001b[0m \u001b[0mnames\u001b[0m\u001b[1;33m,\u001b[0m \u001b[0mmodule\u001b[0m\u001b[1;33m=\u001b[0m\u001b[0mmodule\u001b[0m\u001b[1;33m,\u001b[0m \u001b[0mqualname\u001b[0m\u001b[1;33m=\u001b[0m\u001b[0mqualname\u001b[0m\u001b[1;33m,\u001b[0m \u001b[0mtype\u001b[0m\u001b[1;33m=\u001b[0m\u001b[0mtype\u001b[0m\u001b[1;33m,\u001b[0m \u001b[0mstart\u001b[0m\u001b[1;33m=\u001b[0m\u001b[0mstart\u001b[0m\u001b[1;33m)\u001b[0m\u001b[1;33m\u001b[0m\u001b[0m\n",
      "\u001b[1;32mD:\\ProgramData\\Anaconda3\\envs\\py36\\lib\\enum.py\u001b[0m in \u001b[0;36m__new__\u001b[1;34m(cls, value)\u001b[0m\n\u001b[0;32m    531\u001b[0m                     \u001b[1;32mreturn\u001b[0m \u001b[0mmember\u001b[0m\u001b[1;33m\u001b[0m\u001b[0m\n\u001b[0;32m    532\u001b[0m         \u001b[1;31m# still not found -- try _missing_ hook\u001b[0m\u001b[1;33m\u001b[0m\u001b[1;33m\u001b[0m\u001b[0m\n\u001b[1;32m--> 533\u001b[1;33m         \u001b[1;32mreturn\u001b[0m \u001b[0mcls\u001b[0m\u001b[1;33m.\u001b[0m\u001b[0m_missing_\u001b[0m\u001b[1;33m(\u001b[0m\u001b[0mvalue\u001b[0m\u001b[1;33m)\u001b[0m\u001b[1;33m\u001b[0m\u001b[0m\n\u001b[0m\u001b[0;32m    534\u001b[0m \u001b[1;33m\u001b[0m\u001b[0m\n\u001b[0;32m    535\u001b[0m     \u001b[1;32mdef\u001b[0m \u001b[0m_generate_next_value_\u001b[0m\u001b[1;33m(\u001b[0m\u001b[0mname\u001b[0m\u001b[1;33m,\u001b[0m \u001b[0mstart\u001b[0m\u001b[1;33m,\u001b[0m \u001b[0mcount\u001b[0m\u001b[1;33m,\u001b[0m \u001b[0mlast_values\u001b[0m\u001b[1;33m)\u001b[0m\u001b[1;33m:\u001b[0m\u001b[1;33m\u001b[0m\u001b[0m\n",
      "\u001b[1;32mD:\\ProgramData\\Anaconda3\\envs\\py36\\lib\\enum.py\u001b[0m in \u001b[0;36m_missing_\u001b[1;34m(cls, value)\u001b[0m\n\u001b[0;32m    544\u001b[0m     \u001b[1;33m@\u001b[0m\u001b[0mclassmethod\u001b[0m\u001b[1;33m\u001b[0m\u001b[0m\n\u001b[0;32m    545\u001b[0m     \u001b[1;32mdef\u001b[0m \u001b[0m_missing_\u001b[0m\u001b[1;33m(\u001b[0m\u001b[0mcls\u001b[0m\u001b[1;33m,\u001b[0m \u001b[0mvalue\u001b[0m\u001b[1;33m)\u001b[0m\u001b[1;33m:\u001b[0m\u001b[1;33m\u001b[0m\u001b[0m\n\u001b[1;32m--> 546\u001b[1;33m         \u001b[1;32mraise\u001b[0m \u001b[0mValueError\u001b[0m\u001b[1;33m(\u001b[0m\u001b[1;34m\"%r is not a valid %s\"\u001b[0m \u001b[1;33m%\u001b[0m \u001b[1;33m(\u001b[0m\u001b[0mvalue\u001b[0m\u001b[1;33m,\u001b[0m \u001b[0mcls\u001b[0m\u001b[1;33m.\u001b[0m\u001b[0m__name__\u001b[0m\u001b[1;33m)\u001b[0m\u001b[1;33m)\u001b[0m\u001b[1;33m\u001b[0m\u001b[0m\n\u001b[0m\u001b[0;32m    547\u001b[0m \u001b[1;33m\u001b[0m\u001b[0m\n\u001b[0;32m    548\u001b[0m     \u001b[1;32mdef\u001b[0m \u001b[0m__repr__\u001b[0m\u001b[1;33m(\u001b[0m\u001b[0mself\u001b[0m\u001b[1;33m)\u001b[0m\u001b[1;33m:\u001b[0m\u001b[1;33m\u001b[0m\u001b[0m\n",
      "\u001b[1;31mValueError\u001b[0m: 7 is not a valid Weekday"
     ]
    }
   ],
   "source": [
    "day1 = Weekday.Mon\n",
    "print(day1)\n",
    "print(Weekday['Mon'])\n",
    "print(Weekday.Mon.value)\n",
    "print(day1 == Weekday.Mon)\n",
    "print(day1 == Weekday.Tue)\n",
    "print(Weekday(1))\n",
    "print(day1 == Weekday(1))\n",
    "for name, member in Weekday.__members__.items():\n",
    "    print(name, '=>', member)\n",
    "    \n",
    "Weekday(7)"
   ]
  },
  {
   "cell_type": "markdown",
   "metadata": {},
   "source": [
    "既可以用成员名称引用枚举常量，又可以直接根据value的值获得枚举常量\n",
    "\n",
    "### 练习\n",
    "\n",
    "把`Student`的`gender`属性改造为枚举类型，可以避免使用字符串："
   ]
  },
  {
   "cell_type": "code",
   "execution_count": 51,
   "metadata": {},
   "outputs": [
    {
     "ename": "ValueError",
     "evalue": "<Gender.Male: 0> is not a valid Enum",
     "output_type": "error",
     "traceback": [
      "\u001b[1;31m---------------------------------------------------------------------------\u001b[0m",
      "\u001b[1;31mValueError\u001b[0m                                Traceback (most recent call last)",
      "\u001b[1;32m<ipython-input-51-9164464b9b23>\u001b[0m in \u001b[0;36m<module>\u001b[1;34m()\u001b[0m\n\u001b[0;32m     12\u001b[0m \u001b[1;33m\u001b[0m\u001b[0m\n\u001b[0;32m     13\u001b[0m \u001b[1;31m# 测试:\u001b[0m\u001b[1;33m\u001b[0m\u001b[1;33m\u001b[0m\u001b[0m\n\u001b[1;32m---> 14\u001b[1;33m \u001b[0mbart\u001b[0m \u001b[1;33m=\u001b[0m \u001b[0mStudent\u001b[0m\u001b[1;33m(\u001b[0m\u001b[1;34m'Bart'\u001b[0m\u001b[1;33m,\u001b[0m \u001b[0mGender\u001b[0m\u001b[1;33m.\u001b[0m\u001b[0mMale\u001b[0m\u001b[1;33m)\u001b[0m\u001b[1;33m\u001b[0m\u001b[0m\n\u001b[0m\u001b[0;32m     15\u001b[0m \u001b[1;32mif\u001b[0m \u001b[0mbart\u001b[0m\u001b[1;33m.\u001b[0m\u001b[0mgender\u001b[0m \u001b[1;33m==\u001b[0m \u001b[0mGender\u001b[0m\u001b[1;33m.\u001b[0m\u001b[0mMale\u001b[0m\u001b[1;33m:\u001b[0m\u001b[1;33m\u001b[0m\u001b[0m\n\u001b[0;32m     16\u001b[0m     \u001b[0mprint\u001b[0m\u001b[1;33m(\u001b[0m\u001b[1;34m'测试通过!'\u001b[0m\u001b[1;33m)\u001b[0m\u001b[1;33m\u001b[0m\u001b[0m\n",
      "\u001b[1;32m<ipython-input-51-9164464b9b23>\u001b[0m in \u001b[0;36m__init__\u001b[1;34m(self, name, gender)\u001b[0m\n\u001b[0;32m      9\u001b[0m     \u001b[1;32mdef\u001b[0m \u001b[0m__init__\u001b[0m\u001b[1;33m(\u001b[0m\u001b[0mself\u001b[0m\u001b[1;33m,\u001b[0m \u001b[0mname\u001b[0m\u001b[1;33m,\u001b[0m \u001b[0mgender\u001b[0m\u001b[1;33m)\u001b[0m\u001b[1;33m:\u001b[0m\u001b[1;33m\u001b[0m\u001b[0m\n\u001b[0;32m     10\u001b[0m         \u001b[0mself\u001b[0m\u001b[1;33m.\u001b[0m\u001b[0mname\u001b[0m \u001b[1;33m=\u001b[0m \u001b[0mname\u001b[0m\u001b[1;33m\u001b[0m\u001b[0m\n\u001b[1;32m---> 11\u001b[1;33m         \u001b[0mself\u001b[0m\u001b[1;33m.\u001b[0m\u001b[0mgender\u001b[0m \u001b[1;33m=\u001b[0m \u001b[0mEnum\u001b[0m\u001b[1;33m(\u001b[0m\u001b[0mgender\u001b[0m\u001b[1;33m)\u001b[0m\u001b[1;33m\u001b[0m\u001b[0m\n\u001b[0m\u001b[0;32m     12\u001b[0m \u001b[1;33m\u001b[0m\u001b[0m\n\u001b[0;32m     13\u001b[0m \u001b[1;31m# 测试:\u001b[0m\u001b[1;33m\u001b[0m\u001b[1;33m\u001b[0m\u001b[0m\n",
      "\u001b[1;32mD:\\ProgramData\\Anaconda3\\envs\\py36\\lib\\enum.py\u001b[0m in \u001b[0;36m__call__\u001b[1;34m(cls, value, names, module, qualname, type, start)\u001b[0m\n\u001b[0;32m    289\u001b[0m         \"\"\"\n\u001b[0;32m    290\u001b[0m         \u001b[1;32mif\u001b[0m \u001b[0mnames\u001b[0m \u001b[1;32mis\u001b[0m \u001b[1;32mNone\u001b[0m\u001b[1;33m:\u001b[0m  \u001b[1;31m# simple value lookup\u001b[0m\u001b[1;33m\u001b[0m\u001b[0m\n\u001b[1;32m--> 291\u001b[1;33m             \u001b[1;32mreturn\u001b[0m \u001b[0mcls\u001b[0m\u001b[1;33m.\u001b[0m\u001b[0m__new__\u001b[0m\u001b[1;33m(\u001b[0m\u001b[0mcls\u001b[0m\u001b[1;33m,\u001b[0m \u001b[0mvalue\u001b[0m\u001b[1;33m)\u001b[0m\u001b[1;33m\u001b[0m\u001b[0m\n\u001b[0m\u001b[0;32m    292\u001b[0m         \u001b[1;31m# otherwise, functional API: we're creating a new Enum type\u001b[0m\u001b[1;33m\u001b[0m\u001b[1;33m\u001b[0m\u001b[0m\n\u001b[0;32m    293\u001b[0m         \u001b[1;32mreturn\u001b[0m \u001b[0mcls\u001b[0m\u001b[1;33m.\u001b[0m\u001b[0m_create_\u001b[0m\u001b[1;33m(\u001b[0m\u001b[0mvalue\u001b[0m\u001b[1;33m,\u001b[0m \u001b[0mnames\u001b[0m\u001b[1;33m,\u001b[0m \u001b[0mmodule\u001b[0m\u001b[1;33m=\u001b[0m\u001b[0mmodule\u001b[0m\u001b[1;33m,\u001b[0m \u001b[0mqualname\u001b[0m\u001b[1;33m=\u001b[0m\u001b[0mqualname\u001b[0m\u001b[1;33m,\u001b[0m \u001b[0mtype\u001b[0m\u001b[1;33m=\u001b[0m\u001b[0mtype\u001b[0m\u001b[1;33m,\u001b[0m \u001b[0mstart\u001b[0m\u001b[1;33m=\u001b[0m\u001b[0mstart\u001b[0m\u001b[1;33m)\u001b[0m\u001b[1;33m\u001b[0m\u001b[0m\n",
      "\u001b[1;32mD:\\ProgramData\\Anaconda3\\envs\\py36\\lib\\enum.py\u001b[0m in \u001b[0;36m__new__\u001b[1;34m(cls, value)\u001b[0m\n\u001b[0;32m    531\u001b[0m                     \u001b[1;32mreturn\u001b[0m \u001b[0mmember\u001b[0m\u001b[1;33m\u001b[0m\u001b[0m\n\u001b[0;32m    532\u001b[0m         \u001b[1;31m# still not found -- try _missing_ hook\u001b[0m\u001b[1;33m\u001b[0m\u001b[1;33m\u001b[0m\u001b[0m\n\u001b[1;32m--> 533\u001b[1;33m         \u001b[1;32mreturn\u001b[0m \u001b[0mcls\u001b[0m\u001b[1;33m.\u001b[0m\u001b[0m_missing_\u001b[0m\u001b[1;33m(\u001b[0m\u001b[0mvalue\u001b[0m\u001b[1;33m)\u001b[0m\u001b[1;33m\u001b[0m\u001b[0m\n\u001b[0m\u001b[0;32m    534\u001b[0m \u001b[1;33m\u001b[0m\u001b[0m\n\u001b[0;32m    535\u001b[0m     \u001b[1;32mdef\u001b[0m \u001b[0m_generate_next_value_\u001b[0m\u001b[1;33m(\u001b[0m\u001b[0mname\u001b[0m\u001b[1;33m,\u001b[0m \u001b[0mstart\u001b[0m\u001b[1;33m,\u001b[0m \u001b[0mcount\u001b[0m\u001b[1;33m,\u001b[0m \u001b[0mlast_values\u001b[0m\u001b[1;33m)\u001b[0m\u001b[1;33m:\u001b[0m\u001b[1;33m\u001b[0m\u001b[0m\n",
      "\u001b[1;32mD:\\ProgramData\\Anaconda3\\envs\\py36\\lib\\enum.py\u001b[0m in \u001b[0;36m_missing_\u001b[1;34m(cls, value)\u001b[0m\n\u001b[0;32m    544\u001b[0m     \u001b[1;33m@\u001b[0m\u001b[0mclassmethod\u001b[0m\u001b[1;33m\u001b[0m\u001b[0m\n\u001b[0;32m    545\u001b[0m     \u001b[1;32mdef\u001b[0m \u001b[0m_missing_\u001b[0m\u001b[1;33m(\u001b[0m\u001b[0mcls\u001b[0m\u001b[1;33m,\u001b[0m \u001b[0mvalue\u001b[0m\u001b[1;33m)\u001b[0m\u001b[1;33m:\u001b[0m\u001b[1;33m\u001b[0m\u001b[0m\n\u001b[1;32m--> 546\u001b[1;33m         \u001b[1;32mraise\u001b[0m \u001b[0mValueError\u001b[0m\u001b[1;33m(\u001b[0m\u001b[1;34m\"%r is not a valid %s\"\u001b[0m \u001b[1;33m%\u001b[0m \u001b[1;33m(\u001b[0m\u001b[0mvalue\u001b[0m\u001b[1;33m,\u001b[0m \u001b[0mcls\u001b[0m\u001b[1;33m.\u001b[0m\u001b[0m__name__\u001b[0m\u001b[1;33m)\u001b[0m\u001b[1;33m)\u001b[0m\u001b[1;33m\u001b[0m\u001b[0m\n\u001b[0m\u001b[0;32m    547\u001b[0m \u001b[1;33m\u001b[0m\u001b[0m\n\u001b[0;32m    548\u001b[0m     \u001b[1;32mdef\u001b[0m \u001b[0m__repr__\u001b[0m\u001b[1;33m(\u001b[0m\u001b[0mself\u001b[0m\u001b[1;33m)\u001b[0m\u001b[1;33m:\u001b[0m\u001b[1;33m\u001b[0m\u001b[0m\n",
      "\u001b[1;31mValueError\u001b[0m: <Gender.Male: 0> is not a valid Enum"
     ]
    }
   ],
   "source": [
    "from enum import Enum, unique\n",
    "\n",
    "@unique\n",
    "class Gender(Enum):\n",
    "    Male = 0\n",
    "    Female = 1\n",
    "\n",
    "class Student(object):\n",
    "    def __init__(self, name, gender):\n",
    "        self.name = name\n",
    "        self.gender = gender\n",
    "        \n",
    "# 测试:\n",
    "bart = Student('Bart', Gender.Male)\n",
    "if bart.gender == Gender.Male:\n",
    "    print('测试通过!')\n",
    "else:\n",
    "    print('测试失败!')"
   ]
  },
  {
   "cell_type": "code",
   "execution_count": null,
   "metadata": {},
   "outputs": [],
   "source": []
  },
  {
   "cell_type": "code",
   "execution_count": null,
   "metadata": {},
   "outputs": [],
   "source": []
  },
  {
   "cell_type": "code",
   "execution_count": null,
   "metadata": {},
   "outputs": [],
   "source": []
  },
  {
   "cell_type": "code",
   "execution_count": null,
   "metadata": {},
   "outputs": [],
   "source": []
  },
  {
   "cell_type": "markdown",
   "metadata": {},
   "source": [
    "## 参考\n",
    "1、[使用__slots__ - 廖雪峰](https://www.liaoxuefeng.com/wiki/0014316089557264a6b348958f449949df42a6d3a2e542c000/00143186739713011a09b63dcbd42cc87f907a778b3ac73000)\n",
    "\n",
    "2、[使用@property - 廖雪峰](https://www.liaoxuefeng.com/wiki/0014316089557264a6b348958f449949df42a6d3a2e542c000/00143186781871161bc8d6497004764b398401a401d4cce000)\n",
    "\n",
    "3、[多重继承 - 廖雪峰](https://www.liaoxuefeng.com/wiki/0014316089557264a6b348958f449949df42a6d3a2e542c000/0014318680104044a55f4a9dbf8452caf71e8dc68b75a18000)\n",
    "\n",
    "4、[定制类 - 廖雪峰](https://www.liaoxuefeng.com/wiki/0014316089557264a6b348958f449949df42a6d3a2e542c000/0014319098638265527beb24f7840aa97de564ccc7f20f6000)\n",
    "\n",
    "5、[使用枚举类 - 廖雪峰](https://www.liaoxuefeng.com/wiki/0014316089557264a6b348958f449949df42a6d3a2e542c000/00143191235886950998592cd3e426e91687cdae696e64b000)\n",
    "\n",
    "6、[]()\n"
   ]
  },
  {
   "cell_type": "code",
   "execution_count": null,
   "metadata": {},
   "outputs": [],
   "source": []
  }
 ],
 "metadata": {
  "kernelspec": {
   "display_name": "Python 3",
   "language": "python",
   "name": "python3"
  },
  "language_info": {
   "codemirror_mode": {
    "name": "ipython",
    "version": 3
   },
   "file_extension": ".py",
   "mimetype": "text/x-python",
   "name": "python",
   "nbconvert_exporter": "python",
   "pygments_lexer": "ipython3",
   "version": "3.6.3"
  },
  "toc": {
   "nav_menu": {},
   "number_sections": true,
   "sideBar": true,
   "skip_h1_title": false,
   "toc_cell": true,
   "toc_position": {
    "height": "516px",
    "left": "0px",
    "right": "1114px",
    "top": "111px",
    "width": "285px"
   },
   "toc_section_display": "block",
   "toc_window_display": true
  }
 },
 "nbformat": 4,
 "nbformat_minor": 2
}
