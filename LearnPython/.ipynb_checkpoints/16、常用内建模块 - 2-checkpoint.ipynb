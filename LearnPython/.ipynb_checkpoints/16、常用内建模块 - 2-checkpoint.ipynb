{
 "cells": [
  {
   "cell_type": "markdown",
   "metadata": {},
   "source": [
    "![image](http://wx2.sinaimg.cn/thumbnail/69d4185bly1fmf9kfagd3j20ek0ekq88.jpg)\n",
    "# 常用内建模块\n",
    "## hashlib\n",
    "### 摘要算法简介\n",
    "Python的hashlib提供了常见的摘要算法，如MD5，SHA1等等。什么是摘要算法呢？摘要算法又称**哈希算法、散列算法**。它通过一个函数，把任意长度的数据转换为一个长度固定的数据串（通常用16进制的字符串表示）\n",
    "\n",
    "举个例子，你写了一篇文章，内容是一个字符串`'how to use python hashlib - by Michael'`，并附上这篇文章的摘要是`'2d73d4f15c0db7f5ecb321b6a65e5d6d'`。如果有人篡改了你的文章，并发表为`'how to use python hashlib - by Bob'`，你可以一下子指出Bob篡改了你的文章，因为根据`'how to use python hashlib - by Bob'`计算出的摘要不同于原始文章的摘要。\n",
    "\n",
    "可见，摘要算法就是通过摘要函数`f()`对任意长度的数据`data`计算出固定长度的摘要`digest`，目的是为了发现原始数据是否被人篡改过。\n",
    "\n",
    "摘要算法之所以能指出数据是否被篡改过，就是因为摘要函数是一个单向函数，计算`f(data)`很容易，但通过`digest`反推`data`却非常困难。而且，对原始数据做一个bit的修改，都会导致计算出的摘要完全不同。\n",
    "\n",
    "我们以常见的摘要算法MD5为例，计算出一个字符串的MD5值："
   ]
  },
  {
   "cell_type": "code",
   "execution_count": null,
   "metadata": {},
   "outputs": [],
   "source": [
    "import hashlib\n",
    "# 创建一个 md5 函数\n",
    "md5 = hashlib.md5()\n",
    "\n",
    "# 加密\n",
    "md5.update('how to use md5 in python hashlib?'.encode('utf-8'))\n",
    "print(md5.hexdigest())"
   ]
  },
  {
   "cell_type": "markdown",
   "metadata": {},
   "source": [
    "如果数据量很大，可以分块多次调用`update()`，最后计算的结果是一样的："
   ]
  },
  {
   "cell_type": "code",
   "execution_count": null,
   "metadata": {},
   "outputs": [],
   "source": [
    "import hashlib\n",
    "# 创建一个 md5 函数\n",
    "md5 = hashlib.md5()\n",
    "\n",
    "# 加密\n",
    "md5.update('how to use md5 '.encode('utf-8'))\n",
    "md5.update('in python hashlib?'.encode('utf-8'))\n",
    "print(md5.hexdigest())"
   ]
  },
  {
   "cell_type": "markdown",
   "metadata": {},
   "source": [
    "试试改动一个字母，看看计算的结果是否完全不同。MD5是最常见的摘要算法，速度很快，生成结果是固定的*128* bit字节，通常用一个32位的16进制字符串表示。\n",
    "\n",
    "另一种常见的摘要算法是SHA1，调用SHA1和调用MD5完全类似："
   ]
  },
  {
   "cell_type": "code",
   "execution_count": null,
   "metadata": {},
   "outputs": [],
   "source": [
    "import hashlib\n",
    "\n",
    "sha1 = hashlib.sha1()\n",
    "sha1.update('how to use sha1 in '.encode('utf-8'))\n",
    "sha1.update('python hashlib?'.encode('utf-8'))\n",
    "print(sha1.hexdigest())"
   ]
  },
  {
   "cell_type": "markdown",
   "metadata": {},
   "source": [
    "SHA1的结果是160 bit字节，通常用一个40位的16进制字符串表示。比SHA1更安全的算法是SHA256和SHA512，不过越安全的算法不仅越慢，而且摘要长度更长。\n",
    "\n",
    "有没有可能两个不同的数据通过某个摘要算法得到了相同的摘要？完全有可能，因为任何摘要算法都是把无限多的数据集合映射到一个有限的集合中。这种情况称为碰撞，比如Bob试图根据你的摘要反推出一篇文章`'how to learn hashlib in python - by Bob'`，并且这篇文章的摘要恰好和你的文章完全一致，这种情况也并非不可能出现，但是非常非常困难。\n",
    "\n",
    "### 摘要算法应用\n",
    "\n",
    "摘要算法能应用到什么地方？举个常用例子：\n",
    "\n",
    "任何允许用户登录的网站都会存储用户登录的用户名和口令。如何存储用户名和口令呢？方法是存到数据库表中：\n",
    "```\n",
    "name\tpassword\n",
    "michael\t123456\n",
    "bob\t   abc999\n",
    "alice\talice2008\n",
    "```\n",
    "如果以明文保存用户口令，如果数据库泄露，所有用户的口令就落入黑客的手里。此外，网站运维人员是可以访问数据库的，也就是能获取到所有用户的口令。\n",
    "\n",
    "正确的保存口令的方式是不存储用户的明文口令，而是存储用户口令的摘要，比如MD5：\n",
    "```\n",
    "username\tpassword\n",
    "michael\te10adc3949ba59abbe56e057f20f883e\n",
    "bob\t878ef96e86145580c38c87f0410ad153\n",
    "alice\t99b1c2188db85afee403b1536010c2c9\n",
    "```\n",
    "当用户登录时，首先计算用户输入的明文口令的MD5，然后和数据库存储的MD5对比，如果一致，说明口令输入正确，如果不一致，口令肯定错误。"
   ]
  },
  {
   "cell_type": "markdown",
   "metadata": {},
   "source": [
    "### 练习\n",
    "\n",
    "1、根据用户输入的口令，计算出存储在数据库中的MD5口令：\n",
    "```python\n",
    "def calc_md5(password):\n",
    "    pass\n",
    "```\n",
    "存储MD5的好处是即使运维人员能访问数据库，也无法获知用户的明文口令。设计一个验证用户登录的函数，根据用户输入的口令是否正确，返回True或False："
   ]
  },
  {
   "cell_type": "code",
   "execution_count": null,
   "metadata": {},
   "outputs": [],
   "source": [
    "import hashlib\n",
    "db = {\n",
    "    'michael': 'e10adc3949ba59abbe56e057f20f883e',\n",
    "    'bob': '878ef96e86145580c38c87f0410ad153',\n",
    "    'alice': '99b1c2188db85afee403b1536010c2c9'\n",
    "}\n",
    "def login(user, password):\n",
    "    md5 = hashlib.md5()\n",
    "    md5.update(password.encode('utf-8'))\n",
    "    pas = md5.hexdigest()\n",
    "    if pas == db[user]:\n",
    "        return True\n",
    "    return False\n",
    "\n",
    "# 测试:\n",
    "assert login('michael', '123456')\n",
    "assert login('bob', 'abc999')\n",
    "assert login('alice', 'alice2008')\n",
    "assert not login('michael', '1234567')\n",
    "assert not login('bob', '123456')\n",
    "assert not login('alice', 'Alice2008')\n",
    "print('ok')"
   ]
  },
  {
   "cell_type": "markdown",
   "metadata": {},
   "source": [
    "采用MD5存储口令是否就一定安全呢？也不一定。假设你是一个黑客，已经拿到了存储MD5口令的数据库，如何通过MD5反推用户的明文口令呢？暴力破解费事费力，真正的黑客不会这么干。\n",
    "\n",
    "考虑这么个情况，很多用户喜欢用`123456`，`888888`，`password`这些简单的口令，于是，黑客可以事先计算出这些常用口令的MD5值，得到一个反推表：\n",
    "```\n",
    "'e10adc3949ba59abbe56e057f20f883e': '123456'\n",
    "'21218cca77804d2ba1922c33e0151105': '888888'\n",
    "'5f4dcc3b5aa765d61d8327deb882cf99': 'password'\n",
    "```\n",
    "这样，无需破解，只需要对比数据库的MD5，黑客就获得了使用常用口令的用户账号。\n",
    "\n",
    "对于用户来讲，当然不要使用过于简单的口令。但是，我们能否在程序设计上对简单口令加强保护呢？\n",
    "\n",
    "由于常用口令的MD5值很容易被计算出来，所以，要确保存储的用户口令不是那些已经被计算出来的常用口令的MD5，这一方法通过对原始口令加一个复杂字符串来实现，俗称“**加盐**”：\n",
    "```python\n",
    "def calc_md5(password):\n",
    "    return get_md5(password + 'the-Salt')\n",
    "```\n",
    "经过Salt处理的MD5口令，只要Salt不被黑客知道，即使用户输入简单口令，也很难通过MD5反推明文口令。\n",
    "\n",
    "但是如果有两个用户都使用了相同的简单口令比如123456，在数据库中，将存储两条相同的MD5值，这说明这两个用户的口令是一样的。有没有办法让使用相同口令的用户存储不同的MD5呢？\n",
    "\n",
    "如果假定用户无法修改登录名，就可以通过把登录名作为Salt的一部分来计算MD5，从而实现相同口令的用户也存储不同的MD5。"
   ]
  },
  {
   "cell_type": "markdown",
   "metadata": {},
   "source": [
    "2、根据用户输入的登录名和口令模拟用户注册，计算更安全的MD5：\n",
    "```python\n",
    "db = {}\n",
    "\n",
    "def register(username, password):\n",
    "    db[username] = get_md5(password + username + 'the-Salt')\n",
    "```\n",
    "然后，根据修改后的MD5算法实现用户登录的验证："
   ]
  },
  {
   "cell_type": "code",
   "execution_count": null,
   "metadata": {},
   "outputs": [],
   "source": [
    "import hashlib, random\n",
    "\n",
    "def get_md5(s):\n",
    "    return hashlib.md5(s.encode('utf-8')).hexdigest()\n",
    "\n",
    "class User(object):\n",
    "    def __init__(self, username, password):\n",
    "        self.username = username\n",
    "        self.salt = ''.join([chr(random.randint(48, 122)) for i in range(20)])\n",
    "        self.password = get_md5(password + self.salt)\n",
    "db = {\n",
    "    'michael': User('michael', '123456'),\n",
    "    'bob': User('bob', 'abc999'),\n",
    "    'alice': User('alice', 'alice2008')\n",
    "}\n",
    "\n",
    "def login(username, password):\n",
    "    user = db[username]\n",
    "    return user.password == get_md5(password)\n",
    "\n",
    "# 测试:\n",
    "assert login('michael', '123456')\n",
    "assert login('bob', 'abc999')\n",
    "assert login('alice', 'alice2008')\n",
    "assert not login('michael', '1234567')\n",
    "assert not login('bob', '123456')\n",
    "assert not login('alice', 'Alice2008')\n",
    "print('ok')"
   ]
  },
  {
   "cell_type": "markdown",
   "metadata": {},
   "source": [
    "## hmac\n",
    "通过哈希算法，我们可以验证一段数据是否有效，方法就是对比该数据的哈希值，例如，判断用户口令是否正确，我们用保存在数据库中的`password_md5`对比计算`md5(password)`的结果，如果一致，用户输入的口令就是正确的。\n",
    "\n",
    "为了防止黑客通过[彩虹表](https://baike.baidu.com/item/%E5%BD%A9%E8%99%B9%E8%A1%A8/689313?fr=aladdin)根据哈希值反推原始口令，在计算哈希的时候，不能仅针对原始输入计算，需要增加一个salt来使得相同的输入也能得到不同的哈希，这样，大大增加了黑客破解的难度。\n",
    "\n",
    "如果salt是我们自己随机生成的，通常我们计算MD5时采用`md5(message + salt)`。但实际上，把salt看做一个“口令”，加salt的哈希就是：计算一段message的哈希时，根据不通口令计算出不同的哈希。要验证哈希值，必须同时提供正确的口令。\n",
    "\n",
    "这实际上就是Hmac算法：**Keyed-Hashing for Message Authentication**。它通过一个标准算法，在计算哈希的过程中，把key混入计算过程中。和我们自定义的加salt算法不同，Hmac算法针对所有哈希算法都通用，无论是MD5还是SHA-1。采用Hmac替代我们自己的salt算法，可以使程序算法更标准化，也更安全。Python自带的hmac模块实现了标准的Hmac算法。我们来看看如何使用hmac实现带key的哈希。\n",
    "\n",
    "我们首先需要准备待计算的原始消息message，随机key，哈希算法，这里采用MD5，使用hmac的代码如下："
   ]
  },
  {
   "cell_type": "code",
   "execution_count": null,
   "metadata": {},
   "outputs": [],
   "source": [
    "import hmac\n",
    "message = b'Hello, world!'\n",
    "key = b'secret'\n",
    "h = hmac.new(key, message, digestmod='MD5')\n",
    "# 如果消息很长，可以多次调用h.update(msg)\n",
    "h.hexdigest()"
   ]
  },
  {
   "cell_type": "markdown",
   "metadata": {},
   "source": [
    "可见使用hmac和普通hash算法非常类似。hmac输出的长度和原始哈希算法的长度一致。需要注意传入的key和message都是bytes类型，str类型需要首先编码为bytes。\n",
    "\n",
    "### 练习\n",
    "\n",
    "将上一节的salt改为标准的hmac算法，验证用户口令："
   ]
  },
  {
   "cell_type": "code",
   "execution_count": null,
   "metadata": {},
   "outputs": [],
   "source": [
    "# -*- coding: utf-8 -*-\n",
    "import hmac, random\n",
    "\n",
    "def hmac_md5(key, s):\n",
    "    return hmac.new(key.encode('utf-8'), s.encode('utf-8'), 'MD5').hexdigest()\n",
    "\n",
    "class User(object):\n",
    "    def __init__(self, username, password):\n",
    "        self.username = username\n",
    "        self.key = ''.join([chr(random.randint(48, 122)) for i in range(20)])\n",
    "        self.password = hmac_md5(self.key, password)\n",
    "\n",
    "db = {\n",
    "    'michael': User('michael', '123456'),\n",
    "    'bob': User('bob', 'abc999'),\n",
    "    'alice': User('alice', 'alice2008')\n",
    "}\n",
    "\n",
    "def login(username, password):\n",
    "    user = db[username]\n",
    "    return user.password == hmac_md5(user.key, password)\n",
    "\n",
    "# 测试:\n",
    "assert login('michael', '123456')\n",
    "assert login('bob', 'abc999')\n",
    "assert login('alice', 'alice2008')\n",
    "assert not login('michael', '1234567')\n",
    "assert not login('bob', '123456')\n",
    "assert not login('alice', 'Alice2008')\n",
    "print('ok')"
   ]
  },
  {
   "cell_type": "markdown",
   "metadata": {},
   "source": [
    "## itertools\n",
    "Python的内建模块`itertools`提供了非常有用的用于操作迭代对象的函数。 \n",
    "\n",
    "### count\n",
    "首先，我们看看`itertools`提供的几个“无限”迭代器："
   ]
  },
  {
   "cell_type": "code",
   "execution_count": null,
   "metadata": {},
   "outputs": [],
   "source": [
    "import itertools\n",
    "natuals = itertools.count(1)\n",
    "# 会输出无限多的数\n",
    "for n in natuals:\n",
    "    print(n)"
   ]
  },
  {
   "cell_type": "markdown",
   "metadata": {},
   "source": [
    "因为`count()`会创建一个无限的迭代器，所以上述代码会打印出自然数序列，根本停不下来，只能按Ctrl+C退出。\n",
    "\n",
    "`cycle()`会把传入的一个序列无限重复下去："
   ]
  },
  {
   "cell_type": "code",
   "execution_count": null,
   "metadata": {},
   "outputs": [],
   "source": [
    "import itertools\n",
    "cy = itertools.cycle('weduoo')\n",
    "# 会一直重复输出 weduoo 里面的字符\n",
    "for w in cy:\n",
    "    print(w)"
   ]
  },
  {
   "cell_type": "markdown",
   "metadata": {},
   "source": [
    "### repeat\n",
    "`repeat()`负责把一个元素无限重复下去，不过如果提供第二个参数就可以限定重复次数："
   ]
  },
  {
   "cell_type": "code",
   "execution_count": null,
   "metadata": {},
   "outputs": [],
   "source": [
    "rp = itertools.repeat('weduoo',3)\n",
    "for h in rp:\n",
    "    print(h)"
   ]
  },
  {
   "cell_type": "markdown",
   "metadata": {},
   "source": [
    "无限序列只有在`for`迭代时才会无限地迭代下去，如果只是创建了一个迭代对象，它不会事先把无限个元素生成出来，事实上也不可能在内存中创建无限多个元素。\n",
    "\n",
    "### takewhile\n",
    "无限序列虽然可以无限迭代下去，但是通常我们会通过`takewhile()`等函数根据条件判断来截取出一个有限的序列："
   ]
  },
  {
   "cell_type": "code",
   "execution_count": null,
   "metadata": {},
   "outputs": [],
   "source": [
    "tk = itertools.count(1)\n",
    "# 通过 lambda 表达式提取有限数据\n",
    "ns = itertools.takewhile(lambda x: x < 10, tk)\n",
    "list(ns)"
   ]
  },
  {
   "cell_type": "markdown",
   "metadata": {},
   "source": [
    "`itertools`提供的几个迭代器操作函数更加有用：\n",
    "### chain()\n",
    "`chain()`可以把一组迭代对象串联起来，形成一个更大的迭代器："
   ]
  },
  {
   "cell_type": "code",
   "execution_count": null,
   "metadata": {},
   "outputs": [],
   "source": [
    "for c in itertools.chain('ABC','XYZ'):\n",
    "    print(c)"
   ]
  },
  {
   "cell_type": "markdown",
   "metadata": {},
   "source": [
    "### groupby()\n",
    "\n",
    "`groupby()`把迭代器中**相邻**的**重复**元素挑出来放在一起："
   ]
  },
  {
   "cell_type": "code",
   "execution_count": null,
   "metadata": {},
   "outputs": [],
   "source": [
    "for key,group in itertools.groupby('AAABBBCCAAA'):\n",
    "    print(key,list(group))"
   ]
  },
  {
   "cell_type": "markdown",
   "metadata": {},
   "source": [
    "实际上挑选规则是通过函数完成的，只要作用于函数的两个元素返回的值相等，这两个元素就被认为是在一组的，而函数返回值作为组的key。如果我们要忽略大小写分组，就可以让元素`'A'`和`'a'`都返回相同的key："
   ]
  },
  {
   "cell_type": "code",
   "execution_count": null,
   "metadata": {},
   "outputs": [],
   "source": [
    "for key, group in itertools.groupby('AaaBBbcCAAa', lambda c: c.upper()):\n",
    "    print(key, list(group))"
   ]
  },
  {
   "cell_type": "markdown",
   "metadata": {},
   "source": [
    "### 练习\n",
    "\n",
    "计算圆周率可以根据公式：\n",
    "\n",
    "利用Python提供的itertools模块，我们来计算这个序列的前N项和："
   ]
  },
  {
   "cell_type": "code",
   "execution_count": null,
   "metadata": {},
   "outputs": [],
   "source": [
    "# -*- coding: utf-8 -*-\n",
    "import itertools\n",
    "def pi(N):\n",
    "    ' 计算pi的值 '\n",
    "    # step 1: 创建一个奇数序列: 1, 3, 5, 7, 9, ...\n",
    "    nature = itertools.count(1,2)\n",
    "  \n",
    "    # step 2: 取该序列的前N项: 1, 3, 5, 7, 9, ..., 2*N-1.\n",
    "    ns = itertools.takewhile(lambda x: x <= (2*N-1), nature)\n",
    "\n",
    "    # step 3: 添加正负符号并用4除: 4/1, -4/3, 4/5, -4/7, 4/9, ...\n",
    "    incre = 1\n",
    "    result = 0\n",
    "    for n in ns:\n",
    "        if incre % 2 == 1:\n",
    "            result = result + (4*1.0/n)\n",
    "        else:\n",
    "            result = result - (4*1.0/n)\n",
    "        incre += 1\n",
    "    # step 4: 求和:\n",
    "    return result\n",
    "\n",
    "# 测试:\n",
    "print(pi(10))\n",
    "print(pi(100))\n",
    "print(pi(1000))\n",
    "print(pi(10000))\n",
    "assert 3.04 < pi(10) < 3.05\n",
    "assert 3.13 < pi(100) < 3.14\n",
    "assert 3.140 < pi(1000) < 3.141\n",
    "assert 3.1414 < pi(10000) < 3.1415\n",
    "print('ok')"
   ]
  },
  {
   "cell_type": "code",
   "execution_count": null,
   "metadata": {
    "code_folding": []
   },
   "outputs": [],
   "source": [
    "# 较为简单的写法\n",
    "def pi(N):\n",
    "    c =  itertools.cycle([4,-4])\n",
    "    s = sum([next(c)/(2*x-1) for x in range(1,N+1)])\n",
    "    return s"
   ]
  },
  {
   "cell_type": "markdown",
   "metadata": {},
   "source": [
    "## contextlib\n",
    "在Python中，读写文件这样的资源要特别注意，必须在使用完毕后正确关闭它们。正确关闭文件资源的一个方法是使用`try...finally`：\n",
    "```python\n",
    "try:\n",
    "    f = open('/path/to/file', 'r')\n",
    "    f.read()\n",
    "finally:\n",
    "    if f:\n",
    "        f.close()\n",
    " ```\n",
    " 写`try...finally`非常繁琐。Python的`with`语句允许我们非常方便地使用资源，而不必担心资源没有关闭，所以上面的代码可以简化为：\n",
    " ```python\n",
    "with open('/path/to/file', 'r') as f:\n",
    "    f.read()\n",
    "```\n",
    "并不是只有`open()`函数返回的`fp`对象才能使用`with`语句。实际上，任何对象，只要正确实现了上下文管理，就可以用于`with`语句。\n",
    "\n",
    "实现上下文管理是通过`__enter__`和`__exit__`这两个方法实现的。例如，下面的class实现了这两个方法："
   ]
  },
  {
   "cell_type": "code",
   "execution_count": null,
   "metadata": {},
   "outputs": [],
   "source": [
    "class Query(object):\n",
    "\n",
    "    def __init__(self, name):\n",
    "        self.name = name\n",
    "\n",
    "    def __enter__(self):\n",
    "        print('Begin')\n",
    "        return self\n",
    "\n",
    "    def __exit__(self, exc_type, exc_value, traceback):\n",
    "        if exc_type:\n",
    "            print('Error')\n",
    "        else:\n",
    "            print('End')\n",
    "\n",
    "    def query(self):\n",
    "        print('Query info about %s...' % self.name)"
   ]
  },
  {
   "cell_type": "markdown",
   "metadata": {},
   "source": [
    "这样我们就可以把自己写的资源对象用于`with`语句："
   ]
  },
  {
   "cell_type": "code",
   "execution_count": null,
   "metadata": {},
   "outputs": [],
   "source": [
    "with Query('Bob') as q:\n",
    "    q.query()"
   ]
  },
  {
   "cell_type": "markdown",
   "metadata": {},
   "source": [
    "### @contextmanager\n",
    "\n",
    "编写`__enter__`和`__exit__`仍然很繁琐，因此Python的标准库`contextlib`提供了更简单的写法，上面的代码可以改写如下："
   ]
  },
  {
   "cell_type": "code",
   "execution_count": null,
   "metadata": {},
   "outputs": [],
   "source": [
    "from contextlib import contextmanager\n",
    "\n",
    "class Query(object):\n",
    "    def __init__(self,name):\n",
    "        self.name = name\n",
    "    \n",
    "    def query(self):\n",
    "        print('Query info about %s...'% self.name)\n",
    "\n",
    "@contextmanager\n",
    "def create_query(name):\n",
    "    print('Begin')\n",
    "    q = Query(name)\n",
    "    yield q\n",
    "    print('End')"
   ]
  },
  {
   "cell_type": "markdown",
   "metadata": {},
   "source": [
    "`@contextmanage`r这个decorator接受一个generator，用`yield`语句把`with ... as var`把变量输出出去，然后，`with`语句就可以正常地工作了："
   ]
  },
  {
   "cell_type": "code",
   "execution_count": null,
   "metadata": {},
   "outputs": [],
   "source": [
    "with create_query('Bob') as q:\n",
    "    q.query()"
   ]
  },
  {
   "cell_type": "markdown",
   "metadata": {},
   "source": [
    "很多时候，我们希望在某段代码执行前后自动执行特定代码，也可以用`@contextmanager`实现。例如："
   ]
  },
  {
   "cell_type": "code",
   "execution_count": null,
   "metadata": {},
   "outputs": [],
   "source": [
    "@contextmanager\n",
    "def tag(name):\n",
    "    print('<%s>' % name)\n",
    "    yield\n",
    "    print('</%s>' % name)\n",
    "\n",
    "with tag('h1'):\n",
    "    print('hello')\n",
    "    print('world')"
   ]
  },
  {
   "cell_type": "markdown",
   "metadata": {},
   "source": [
    "代码的执行顺序是：\n",
    "\n",
    "1. `with`语句首先执行`yield`之前的语句，因此打印出`<h1>`；\n",
    "2. `yield`调用会执行`with`语句内部的所有语句，因此打印出`hello`和`world`；\n",
    "3. 最后执行`yield`之后的语句，打印出`</h1>`。\n",
    "\n",
    "因此，`@contextmanager`让我们通过编写generator来简化上下文管理。\n",
    "\n",
    "### @closing\n",
    "如果一个对象没有实现上下文，我们就不能把它用于with语句。这个时候，可以用`closing()`来把该对象变为上下文对象。例如，用`with`语句使用`urlopen()`："
   ]
  },
  {
   "cell_type": "code",
   "execution_count": null,
   "metadata": {},
   "outputs": [],
   "source": [
    "from contextlib import closing\n",
    "from urllib.request import urlopen\n",
    "\n",
    "with closing(urlopen('https://www.python.org')) as page:\n",
    "    for line in page:\n",
    "        print(line)"
   ]
  },
  {
   "cell_type": "markdown",
   "metadata": {},
   "source": [
    "`closing`也是一个经过`@contextmanager`装饰的generator，这个generator编写起来其实非常简单："
   ]
  },
  {
   "cell_type": "code",
   "execution_count": null,
   "metadata": {},
   "outputs": [],
   "source": [
    "@contextmanager\n",
    "def closing(thing):\n",
    "    try:\n",
    "        yield thing\n",
    "    finally:\n",
    "        thing.close()"
   ]
  },
  {
   "cell_type": "markdown",
   "metadata": {},
   "source": [
    "它的作用就是把任意对象变为上下文对象，并支持`with`语句。\n",
    "\n",
    "`@contextlib`还有一些其他decorator，便于我们编写更简洁的代码。"
   ]
  },
  {
   "cell_type": "code",
   "execution_count": null,
   "metadata": {},
   "outputs": [],
   "source": []
  },
  {
   "cell_type": "markdown",
   "metadata": {},
   "source": [
    "## 参考\n",
    "1、[hashlib - 廖雪峰](https://www.liaoxuefeng.com/wiki/0014316089557264a6b348958f449949df42a6d3a2e542c000/0014319556588648dd1fb0047a34d0c945ee33e8f4c90cc000)\n",
    "\n",
    "2、[hmac - 廖雪峰](https://www.liaoxuefeng.com/wiki/0014316089557264a6b348958f449949df42a6d3a2e542c000/0015108777177966ef0f4f8510a41b3b8c48cdcf7047b2d000)\n",
    "\n",
    "3、[itertools - 廖雪峰](https://www.liaoxuefeng.com/wiki/0014316089557264a6b348958f449949df42a6d3a2e542c000/00143200162233153835cfdd1a541a18ddc15059e3ddeec000)\n",
    "\n",
    "4、[contextlib - 廖雪峰](https://www.liaoxuefeng.com/wiki/0014316089557264a6b348958f449949df42a6d3a2e542c000/001478651770626de401ff1c0d94f379774cabd842222ff000)\n",
    "\n",
    "5、[ - 廖雪峰]()\n",
    "\n",
    "6、[ - 廖雪峰]()\n"
   ]
  },
  {
   "cell_type": "code",
   "execution_count": null,
   "metadata": {},
   "outputs": [],
   "source": []
  }
 ],
 "metadata": {
  "kernelspec": {
   "display_name": "Python 3",
   "language": "python",
   "name": "python3"
  },
  "language_info": {
   "codemirror_mode": {
    "name": "ipython",
    "version": 3
   },
   "file_extension": ".py",
   "mimetype": "text/x-python",
   "name": "python",
   "nbconvert_exporter": "python",
   "pygments_lexer": "ipython3",
   "version": "3.6.3"
  },
  "toc": {
   "nav_menu": {},
   "number_sections": true,
   "sideBar": false,
   "skip_h1_title": false,
   "toc_cell": false,
   "toc_position": {
    "height": "40px",
    "left": "483px",
    "right": "673px",
    "top": "70.5px",
    "width": "264px"
   },
   "toc_section_display": "none",
   "toc_window_display": true
  }
 },
 "nbformat": 4,
 "nbformat_minor": 2
}
